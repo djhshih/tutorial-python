{
 "cells": [
  {
   "cell_type": "code",
   "execution_count": 2,
   "id": "b30cb84e-9705-4c4a-8ba5-2016e0445bcf",
   "metadata": {},
   "outputs": [],
   "source": [
    "import pandas as pd\n",
    "import os\n",
    "import sys"
   ]
  },
  {
   "cell_type": "code",
   "execution_count": 3,
   "id": "80e4851d-6020-4221-80d8-4f8423f62ac5",
   "metadata": {},
   "outputs": [
    {
     "data": {
      "text/plain": [
       "'/home/davids/projects/tutorial-python/misc'"
      ]
     },
     "execution_count": 3,
     "metadata": {},
     "output_type": "execute_result"
    }
   ],
   "source": [
    "os.getcwd()"
   ]
  },
  {
   "cell_type": "code",
   "execution_count": 4,
   "id": "bd4c01a0-b536-4250-af36-df9b2b098a61",
   "metadata": {},
   "outputs": [
    {
     "data": {
      "text/html": [
       "<div>\n",
       "<style scoped>\n",
       "    .dataframe tbody tr th:only-of-type {\n",
       "        vertical-align: middle;\n",
       "    }\n",
       "\n",
       "    .dataframe tbody tr th {\n",
       "        vertical-align: top;\n",
       "    }\n",
       "\n",
       "    .dataframe thead th {\n",
       "        text-align: right;\n",
       "    }\n",
       "</style>\n",
       "<table border=\"1\" class=\"dataframe\">\n",
       "  <thead>\n",
       "    <tr style=\"text-align: right;\">\n",
       "      <th></th>\n",
       "      <th>0</th>\n",
       "      <th>1</th>\n",
       "      <th>2</th>\n",
       "      <th>3</th>\n",
       "      <th>4</th>\n",
       "      <th>5</th>\n",
       "      <th>6</th>\n",
       "      <th>7</th>\n",
       "      <th>8</th>\n",
       "      <th>9</th>\n",
       "      <th>10</th>\n",
       "      <th>11</th>\n",
       "      <th>12</th>\n",
       "    </tr>\n",
       "  </thead>\n",
       "  <tbody>\n",
       "    <tr>\n",
       "      <th>0</th>\n",
       "      <td>country</td>\n",
       "      <td>gdpPercap_1952</td>\n",
       "      <td>gdpPercap_1957</td>\n",
       "      <td>gdpPercap_1962</td>\n",
       "      <td>gdpPercap_1967</td>\n",
       "      <td>gdpPercap_1972</td>\n",
       "      <td>gdpPercap_1977</td>\n",
       "      <td>gdpPercap_1982</td>\n",
       "      <td>gdpPercap_1987</td>\n",
       "      <td>gdpPercap_1992</td>\n",
       "      <td>gdpPercap_1997</td>\n",
       "      <td>gdpPercap_2002</td>\n",
       "      <td>gdpPercap_2007</td>\n",
       "    </tr>\n",
       "    <tr>\n",
       "      <th>1</th>\n",
       "      <td>Australia</td>\n",
       "      <td>10039.59564</td>\n",
       "      <td>10949.64959</td>\n",
       "      <td>12217.22686</td>\n",
       "      <td>14526.12465</td>\n",
       "      <td>16788.62948</td>\n",
       "      <td>18334.19751</td>\n",
       "      <td>19477.00928</td>\n",
       "      <td>21888.88903</td>\n",
       "      <td>23424.76683</td>\n",
       "      <td>26997.93657</td>\n",
       "      <td>30687.75473</td>\n",
       "      <td>34435.36744</td>\n",
       "    </tr>\n",
       "    <tr>\n",
       "      <th>2</th>\n",
       "      <td>New Zealand</td>\n",
       "      <td>10556.57566</td>\n",
       "      <td>12247.39532</td>\n",
       "      <td>13175.678</td>\n",
       "      <td>14463.91893</td>\n",
       "      <td>16046.03728</td>\n",
       "      <td>16233.7177</td>\n",
       "      <td>17632.4104</td>\n",
       "      <td>19007.19129</td>\n",
       "      <td>18363.32494</td>\n",
       "      <td>21050.41377</td>\n",
       "      <td>23189.80135</td>\n",
       "      <td>25185.00911</td>\n",
       "    </tr>\n",
       "  </tbody>\n",
       "</table>\n",
       "</div>"
      ],
      "text/plain": [
       "            0               1               2               3   \\\n",
       "0      country  gdpPercap_1952  gdpPercap_1957  gdpPercap_1962   \n",
       "1    Australia     10039.59564     10949.64959     12217.22686   \n",
       "2  New Zealand     10556.57566     12247.39532       13175.678   \n",
       "\n",
       "               4               5               6               7   \\\n",
       "0  gdpPercap_1967  gdpPercap_1972  gdpPercap_1977  gdpPercap_1982   \n",
       "1     14526.12465     16788.62948     18334.19751     19477.00928   \n",
       "2     14463.91893     16046.03728      16233.7177      17632.4104   \n",
       "\n",
       "               8               9               10              11  \\\n",
       "0  gdpPercap_1987  gdpPercap_1992  gdpPercap_1997  gdpPercap_2002   \n",
       "1     21888.88903     23424.76683     26997.93657     30687.75473   \n",
       "2     19007.19129     18363.32494     21050.41377     23189.80135   \n",
       "\n",
       "               12  \n",
       "0  gdpPercap_2007  \n",
       "1     34435.36744  \n",
       "2     25185.00911  "
      ]
     },
     "execution_count": 4,
     "metadata": {},
     "output_type": "execute_result"
    }
   ],
   "source": [
    "data = pd.read_csv('../data/gapminder_gdp_oceania.csv', header = None)\n",
    "data"
   ]
  },
  {
   "cell_type": "code",
   "execution_count": null,
   "id": "6af98030",
   "metadata": {},
   "outputs": [],
   "source": []
  }
 ],
 "metadata": {
  "kernelspec": {
   "display_name": "Python 3",
   "language": "python",
   "name": "python3"
  },
  "language_info": {
   "codemirror_mode": {
    "name": "ipython",
    "version": 3
   },
   "file_extension": ".py",
   "mimetype": "text/x-python",
   "name": "python",
   "nbconvert_exporter": "python",
   "pygments_lexer": "ipython3",
   "version": "3.9.12"
  }
 },
 "nbformat": 4,
 "nbformat_minor": 5
}
