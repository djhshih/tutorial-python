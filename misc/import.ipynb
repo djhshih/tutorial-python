{
 "cells": [
  {
   "cell_type": "code",
   "execution_count": 1,
   "id": "4fe7342d-4dbe-473e-be04-c0e48ad30400",
   "metadata": {
    "tags": []
   },
   "outputs": [
    {
     "data": {
      "text/plain": [
       "['/home/davids/projects/tutorial-python/misc',\n",
       " '/home/davids/local/miniconda3/lib/python39.zip',\n",
       " '/home/davids/local/miniconda3/lib/python3.9',\n",
       " '/home/davids/local/miniconda3/lib/python3.9/lib-dynload',\n",
       " '',\n",
       " '/home/davids/local/miniconda3/lib/python3.9/site-packages']"
      ]
     },
     "execution_count": 1,
     "metadata": {},
     "output_type": "execute_result"
    }
   ],
   "source": [
    "import sys\n",
    "sys.path"
   ]
  },
  {
   "cell_type": "code",
   "execution_count": 2,
   "id": "b30cb84e-9705-4c4a-8ba5-2016e0445bcf",
   "metadata": {
    "tags": []
   },
   "outputs": [
    {
     "data": {
      "text/plain": [
       "['..',\n",
       " '/home/davids/projects/tutorial-python/misc',\n",
       " '/home/davids/local/miniconda3/lib/python39.zip',\n",
       " '/home/davids/local/miniconda3/lib/python3.9',\n",
       " '/home/davids/local/miniconda3/lib/python3.9/lib-dynload',\n",
       " '',\n",
       " '/home/davids/local/miniconda3/lib/python3.9/site-packages']"
      ]
     },
     "execution_count": 2,
     "metadata": {},
     "output_type": "execute_result"
    }
   ],
   "source": [
    "import sys\n",
    "sys.path.insert(0, '..')\n",
    "sys.path"
   ]
  },
  {
   "cell_type": "code",
   "execution_count": 3,
   "id": "c34e2b28",
   "metadata": {
    "tags": []
   },
   "outputs": [
    {
     "data": {
      "text/plain": [
       "0"
      ]
     },
     "execution_count": 3,
     "metadata": {},
     "output_type": "execute_result"
    }
   ],
   "source": [
    "# import \"../functions.py\"\n",
    "import functions as f\n",
    "\n",
    "f.my_function()"
   ]
  },
  {
   "cell_type": "code",
   "execution_count": 4,
   "id": "29a5610f-969b-431e-a673-b4c3d672f0e1",
   "metadata": {
    "tags": []
   },
   "outputs": [],
   "source": [
    "# remove the newly inserted path\n",
    "del sys.path[0]"
   ]
  },
  {
   "cell_type": "markdown",
   "id": "f30c21fb-8074-4bc3-821c-0aaaafde21be",
   "metadata": {},
   "source": [
    "You can also append the parent directory at the end, in which case it will have the lowest priority."
   ]
  },
  {
   "cell_type": "code",
   "execution_count": 5,
   "id": "6e1798c3-5ecf-4099-b6fa-f854dc4c0f59",
   "metadata": {
    "tags": []
   },
   "outputs": [
    {
     "data": {
      "text/plain": [
       "['/home/davids/projects/tutorial-python/misc',\n",
       " '/home/davids/local/miniconda3/lib/python39.zip',\n",
       " '/home/davids/local/miniconda3/lib/python3.9',\n",
       " '/home/davids/local/miniconda3/lib/python3.9/lib-dynload',\n",
       " '',\n",
       " '/home/davids/local/miniconda3/lib/python3.9/site-packages',\n",
       " '..']"
      ]
     },
     "execution_count": 5,
     "metadata": {},
     "output_type": "execute_result"
    }
   ],
   "source": [
    "sys.path.append('..')\n",
    "sys.path"
   ]
  },
  {
   "cell_type": "code",
   "execution_count": null,
   "id": "1a00fb5e",
   "metadata": {},
   "outputs": [],
   "source": []
  }
 ],
 "metadata": {
  "kernelspec": {
   "display_name": "Python 3 (ipykernel)",
   "language": "python",
   "name": "python3"
  },
  "language_info": {
   "codemirror_mode": {
    "name": "ipython",
    "version": 3
   },
   "file_extension": ".py",
   "mimetype": "text/x-python",
   "name": "python",
   "nbconvert_exporter": "python",
   "pygments_lexer": "ipython3",
   "version": "3.9.12"
  }
 },
 "nbformat": 4,
 "nbformat_minor": 5
}
