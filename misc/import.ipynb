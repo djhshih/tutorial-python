{
 "cells": [
  {
   "cell_type": "code",
   "execution_count": 4,
   "id": "b30cb84e-9705-4c4a-8ba5-2016e0445bcf",
   "metadata": {},
   "outputs": [
    {
     "data": {
      "text/plain": [
       "['/home/davids/projects/tutorial-python/misc',\n",
       " '..',\n",
       " '..',\n",
       " '/home/davids/local/miniconda3/lib/python39.zip',\n",
       " '/home/davids/local/miniconda3/lib/python3.9',\n",
       " '/home/davids/local/miniconda3/lib/python3.9/lib-dynload',\n",
       " '',\n",
       " '/home/davids/local/miniconda3/lib/python3.9/site-packages']"
      ]
     },
     "execution_count": 4,
     "metadata": {},
     "output_type": "execute_result"
    }
   ],
   "source": [
    "import sys\n",
    "sys.path.insert(1, '..')\n",
    "sys.path"
   ]
  },
  {
   "cell_type": "code",
   "execution_count": 6,
   "id": "c34e2b28",
   "metadata": {},
   "outputs": [
    {
     "data": {
      "text/plain": [
       "0"
      ]
     },
     "execution_count": 6,
     "metadata": {},
     "output_type": "execute_result"
    }
   ],
   "source": [
    "import functions as f\n",
    "\n",
    "f.my_function()"
   ]
  },
  {
   "cell_type": "code",
   "execution_count": null,
   "id": "1a00fb5e",
   "metadata": {},
   "outputs": [],
   "source": []
  }
 ],
 "metadata": {
  "kernelspec": {
   "display_name": "Python 3",
   "language": "python",
   "name": "python3"
  },
  "language_info": {
   "codemirror_mode": {
    "name": "ipython",
    "version": 3
   },
   "file_extension": ".py",
   "mimetype": "text/x-python",
   "name": "python",
   "nbconvert_exporter": "python",
   "pygments_lexer": "ipython3",
   "version": "3.9.12"
  }
 },
 "nbformat": 4,
 "nbformat_minor": 5
}
