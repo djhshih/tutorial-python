{
 "cells": [
  {
   "cell_type": "markdown",
   "id": "c8ae1a88-320d-49a6-b339-5d65e5029cda",
   "metadata": {},
   "source": [
    "# Python Tutorial"
   ]
  },
  {
   "cell_type": "markdown",
   "id": "91abfa7f-6d60-4d34-82a6-797a3a4c8239",
   "metadata": {},
   "source": [
    "## Working directory"
   ]
  },
  {
   "cell_type": "code",
   "execution_count": 3,
   "id": "380add0e-d6cd-43e7-81dd-27942f39eaa0",
   "metadata": {},
   "outputs": [
    {
     "data": {
      "text/plain": [
       "'/home/davids/projects/tutorial-python'"
      ]
     },
     "execution_count": 3,
     "metadata": {},
     "output_type": "execute_result"
    }
   ],
   "source": [
    "import os\n",
    "os.getcwd()"
   ]
  },
  {
   "cell_type": "code",
   "execution_count": 5,
   "id": "48798549-d76a-4980-a829-81b489536833",
   "metadata": {},
   "outputs": [
    {
     "data": {
      "text/plain": [
       "0"
      ]
     },
     "execution_count": 5,
     "metadata": {},
     "output_type": "execute_result"
    }
   ],
   "source": [
    "fname = 'data/names.txt'\n",
    "\n",
    "import functions as fs\n",
    "fs.my_function()"
   ]
  },
  {
   "cell_type": "markdown",
   "id": "8b6d4889-25d1-43cb-963a-f1a4e71ca00e",
   "metadata": {},
   "source": [
    "* Use asterisks\n",
    "* to create\n",
    "* bullet lists."
   ]
  },
  {
   "cell_type": "markdown",
   "id": "3e345186-b988-47d1-a5f7-6dbf4e38e1fb",
   "metadata": {},
   "source": [
    "1. User numbers.\n",
    "1. to create\n",
    "1. numbered list."
   ]
  },
  {
   "cell_type": "markdown",
   "id": "3f02b550-2a17-4320-bd6b-12190aa5ce6e",
   "metadata": {},
   "source": [
    "* You can use indents\n",
    "    * To create sublists\n",
    "    * of the same type."
   ]
  },
  {
   "cell_type": "markdown",
   "id": "f8f60953-c56f-4e32-bd0c-6100e1fa51bb",
   "metadata": {},
   "source": [
    "## More Math"
   ]
  },
  {
   "cell_type": "code",
   "execution_count": 2,
   "id": "f815ca5b-a669-47c3-9942-5e5bcb605698",
   "metadata": {},
   "outputs": [
    {
     "data": {
      "text/plain": [
       "3"
      ]
     },
     "execution_count": 2,
     "metadata": {},
     "output_type": "execute_result"
    }
   ],
   "source": [
    "7 * 3\n",
    "2 + 1"
   ]
  },
  {
   "cell_type": "markdown",
   "id": "24f2b3d8-ec93-4842-b6aa-506fb2a14d1c",
   "metadata": {},
   "source": [
    "## Equations"
   ]
  },
  {
   "cell_type": "markdown",
   "id": "6a22e1db-56fd-49ca-a0ad-5d9c2e346bea",
   "metadata": {},
   "source": [
    "$ \\sum_{i=1}^{N} 2^{-i} \\approx  $"
   ]
  }
 ],
 "metadata": {
  "kernelspec": {
   "display_name": "Python 3",
   "language": "python",
   "name": "python3"
  },
  "language_info": {
   "codemirror_mode": {
    "name": "ipython",
    "version": 3
   },
   "file_extension": ".py",
   "mimetype": "text/x-python",
   "name": "python",
   "nbconvert_exporter": "python",
   "pygments_lexer": "ipython3",
   "version": "3.9.12"
  }
 },
 "nbformat": 4,
 "nbformat_minor": 5
}
