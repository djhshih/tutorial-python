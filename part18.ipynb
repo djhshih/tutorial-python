{
 "cells": [
  {
   "cell_type": "markdown",
   "id": "463afc12-7d46-49ee-aeac-62e51d691f80",
   "metadata": {},
   "source": [
    "# Programming Style"
   ]
  },
  {
   "cell_type": "markdown",
   "id": "582dd7d4-dcff-4a3f-a77e-8d2ee6c09493",
   "metadata": {
    "tags": []
   },
   "source": [
    "## Coding style"
   ]
  },
  {
   "cell_type": "markdown",
   "id": "a4b5b59c-483f-431a-ab0c-a426e32c40d1",
   "metadata": {},
   "source": [
    "- document your code: assumptions, inputs, outputs\n",
    "- use clear, semanticlaly meaningful variable names\n",
    "- use spaces, not tabs\n",
    "- follow [PEP8](https://peps.python.org/pep-0008/)"
   ]
  },
  {
   "cell_type": "code",
   "execution_count": 7,
   "id": "d538e23d-0908-4874-9b0d-e9914a157d18",
   "metadata": {
    "tags": []
   },
   "outputs": [
    {
     "data": {
      "application/javascript": [
       "\n",
       "            setTimeout(function() {\n",
       "                var nbb_cell_id = 7;\n",
       "                var nbb_unformatted_code = \"%load_ext lab_black\";\n",
       "                var nbb_formatted_code = \"%load_ext lab_black\";\n",
       "                var nbb_cells = Jupyter.notebook.get_cells();\n",
       "                for (var i = 0; i < nbb_cells.length; ++i) {\n",
       "                    if (nbb_cells[i].input_prompt_number == nbb_cell_id) {\n",
       "                        if (nbb_cells[i].get_text() == nbb_unformatted_code) {\n",
       "                             nbb_cells[i].set_text(nbb_formatted_code);\n",
       "                        }\n",
       "                        break;\n",
       "                    }\n",
       "                }\n",
       "            }, 500);\n",
       "            "
      ],
      "text/plain": [
       "<IPython.core.display.Javascript object>"
      ]
     },
     "metadata": {},
     "output_type": "display_data"
    }
   ],
   "source": [
    "%load_ext lab_black"
   ]
  },
  {
   "cell_type": "code",
   "execution_count": 11,
   "id": "c203a430-acd7-463d-aa3c-c35c329b7758",
   "metadata": {
    "tags": []
   },
   "outputs": [
    {
     "data": {
      "application/javascript": [
       "\n",
       "            setTimeout(function() {\n",
       "                var nbb_cell_id = 11;\n",
       "                var nbb_unformatted_code = \"def add_integers(x,y):\\n    x+y\";\n",
       "                var nbb_formatted_code = \"def add_integers(x, y):\\n    x + y\";\n",
       "                var nbb_cells = Jupyter.notebook.get_cells();\n",
       "                for (var i = 0; i < nbb_cells.length; ++i) {\n",
       "                    if (nbb_cells[i].input_prompt_number == nbb_cell_id) {\n",
       "                        if (nbb_cells[i].get_text() == nbb_unformatted_code) {\n",
       "                             nbb_cells[i].set_text(nbb_formatted_code);\n",
       "                        }\n",
       "                        break;\n",
       "                    }\n",
       "                }\n",
       "            }, 500);\n",
       "            "
      ],
      "text/plain": [
       "<IPython.core.display.Javascript object>"
      ]
     },
     "metadata": {},
     "output_type": "display_data"
    }
   ],
   "source": [
    "def add_integers(x, y):\n",
    "    x + y"
   ]
  },
  {
   "cell_type": "code",
   "execution_count": 12,
   "id": "fd6f9ce0-e126-4438-9580-908ad2748d84",
   "metadata": {
    "tags": []
   },
   "outputs": [
    {
     "data": {
      "application/javascript": [
       "\n",
       "            setTimeout(function() {\n",
       "                var nbb_cell_id = 12;\n",
       "                var nbb_unformatted_code = \"def calc_bulk_density(mass, volume):\\n    '''Return dry bulk density = power mass / power volume.'''\\n    assert volume > 0\\n    return mass / volume\";\n",
       "                var nbb_formatted_code = \"def calc_bulk_density(mass, volume):\\n    \\\"\\\"\\\"Return dry bulk density = power mass / power volume.\\\"\\\"\\\"\\n    assert volume > 0\\n    return mass / volume\";\n",
       "                var nbb_cells = Jupyter.notebook.get_cells();\n",
       "                for (var i = 0; i < nbb_cells.length; ++i) {\n",
       "                    if (nbb_cells[i].input_prompt_number == nbb_cell_id) {\n",
       "                        if (nbb_cells[i].get_text() == nbb_unformatted_code) {\n",
       "                             nbb_cells[i].set_text(nbb_formatted_code);\n",
       "                        }\n",
       "                        break;\n",
       "                    }\n",
       "                }\n",
       "            }, 500);\n",
       "            "
      ],
      "text/plain": [
       "<IPython.core.display.Javascript object>"
      ]
     },
     "metadata": {},
     "output_type": "display_data"
    }
   ],
   "source": [
    "def calc_bulk_density(mass, volume):\n",
    "    \"\"\"Return dry bulk density = power mass / power volume.\"\"\"\n",
    "    assert volume > 0\n",
    "    return mass / volume"
   ]
  },
  {
   "cell_type": "code",
   "execution_count": 13,
   "id": "549dcaf3-21bd-4ff5-98f2-710b2dc94dc5",
   "metadata": {
    "tags": []
   },
   "outputs": [
    {
     "data": {
      "text/plain": [
       "10.0"
      ]
     },
     "execution_count": 13,
     "metadata": {},
     "output_type": "execute_result"
    },
    {
     "data": {
      "application/javascript": [
       "\n",
       "            setTimeout(function() {\n",
       "                var nbb_cell_id = 13;\n",
       "                var nbb_unformatted_code = \"calc_bulk_density(10, 1)\";\n",
       "                var nbb_formatted_code = \"calc_bulk_density(10, 1)\";\n",
       "                var nbb_cells = Jupyter.notebook.get_cells();\n",
       "                for (var i = 0; i < nbb_cells.length; ++i) {\n",
       "                    if (nbb_cells[i].input_prompt_number == nbb_cell_id) {\n",
       "                        if (nbb_cells[i].get_text() == nbb_unformatted_code) {\n",
       "                             nbb_cells[i].set_text(nbb_formatted_code);\n",
       "                        }\n",
       "                        break;\n",
       "                    }\n",
       "                }\n",
       "            }, 500);\n",
       "            "
      ],
      "text/plain": [
       "<IPython.core.display.Javascript object>"
      ]
     },
     "metadata": {},
     "output_type": "display_data"
    }
   ],
   "source": [
    "calc_bulk_density(10, 1)"
   ]
  },
  {
   "cell_type": "code",
   "execution_count": 14,
   "id": "aa5d8d1f-59c1-4eb2-b8aa-af966a344cba",
   "metadata": {
    "tags": []
   },
   "outputs": [
    {
     "ename": "AssertionError",
     "evalue": "",
     "output_type": "error",
     "traceback": [
      "\u001b[0;31m---------------------------------------------------------------------------\u001b[0m",
      "\u001b[0;31mAssertionError\u001b[0m                            Traceback (most recent call last)",
      "Cell \u001b[0;32mIn[14], line 1\u001b[0m\n\u001b[0;32m----> 1\u001b[0m \u001b[43mcalc_bulk_density\u001b[49m\u001b[43m(\u001b[49m\u001b[38;5;241;43m10\u001b[39;49m\u001b[43m,\u001b[49m\u001b[43m \u001b[49m\u001b[38;5;241;43m0\u001b[39;49m\u001b[43m)\u001b[49m\n",
      "Cell \u001b[0;32mIn[12], line 3\u001b[0m, in \u001b[0;36mcalc_bulk_density\u001b[0;34m(mass, volume)\u001b[0m\n\u001b[1;32m      1\u001b[0m \u001b[38;5;28;01mdef\u001b[39;00m \u001b[38;5;21mcalc_bulk_density\u001b[39m(mass, volume):\n\u001b[1;32m      2\u001b[0m     \u001b[38;5;124;03m'''Return dry bulk density = power mass / power volume.'''\u001b[39;00m\n\u001b[0;32m----> 3\u001b[0m     \u001b[38;5;28;01massert\u001b[39;00m volume \u001b[38;5;241m>\u001b[39m \u001b[38;5;241m0\u001b[39m\n\u001b[1;32m      4\u001b[0m     \u001b[38;5;28;01mreturn\u001b[39;00m mass \u001b[38;5;241m/\u001b[39m volume\n",
      "\u001b[0;31mAssertionError\u001b[0m: "
     ]
    },
    {
     "data": {
      "application/javascript": [
       "\n",
       "            setTimeout(function() {\n",
       "                var nbb_cell_id = 14;\n",
       "                var nbb_unformatted_code = \"calc_bulk_density(10, 0)\";\n",
       "                var nbb_formatted_code = \"calc_bulk_density(10, 0)\";\n",
       "                var nbb_cells = Jupyter.notebook.get_cells();\n",
       "                for (var i = 0; i < nbb_cells.length; ++i) {\n",
       "                    if (nbb_cells[i].input_prompt_number == nbb_cell_id) {\n",
       "                        if (nbb_cells[i].get_text() == nbb_unformatted_code) {\n",
       "                             nbb_cells[i].set_text(nbb_formatted_code);\n",
       "                        }\n",
       "                        break;\n",
       "                    }\n",
       "                }\n",
       "            }, 500);\n",
       "            "
      ],
      "text/plain": [
       "<IPython.core.display.Javascript object>"
      ]
     },
     "metadata": {},
     "output_type": "display_data"
    }
   ],
   "source": [
    "calc_bulk_density(10, 0)"
   ]
  },
  {
   "cell_type": "code",
   "execution_count": 17,
   "id": "3deaac5f-0aa2-4e35-941d-26321548f3b3",
   "metadata": {
    "tags": []
   },
   "outputs": [
    {
     "data": {
      "application/javascript": [
       "\n",
       "            setTimeout(function() {\n",
       "                var nbb_cell_id = 17;\n",
       "                var nbb_unformatted_code = \"def average(values):\\n    \\\"\\\"\\\"Return average of values,\\n    or None if no values are provided.\\\"\\\"\\\"\\n    if len(values) == 0:\\n        return None\\n    return sum(values) / len(values)\";\n",
       "                var nbb_formatted_code = \"def average(values):\\n    \\\"\\\"\\\"Return average of values,\\n    or None if no values are provided.\\\"\\\"\\\"\\n    if len(values) == 0:\\n        return None\\n    return sum(values) / len(values)\";\n",
       "                var nbb_cells = Jupyter.notebook.get_cells();\n",
       "                for (var i = 0; i < nbb_cells.length; ++i) {\n",
       "                    if (nbb_cells[i].input_prompt_number == nbb_cell_id) {\n",
       "                        if (nbb_cells[i].get_text() == nbb_unformatted_code) {\n",
       "                             nbb_cells[i].set_text(nbb_formatted_code);\n",
       "                        }\n",
       "                        break;\n",
       "                    }\n",
       "                }\n",
       "            }, 500);\n",
       "            "
      ],
      "text/plain": [
       "<IPython.core.display.Javascript object>"
      ]
     },
     "metadata": {},
     "output_type": "display_data"
    }
   ],
   "source": [
    "def average(values):\n",
    "    \"\"\"Return average of values,\n",
    "    or None if no values are provided.\"\"\"\n",
    "    if len(values) == 0:\n",
    "        return None\n",
    "    return sum(values) / len(values)"
   ]
  },
  {
   "cell_type": "code",
   "execution_count": 18,
   "id": "791b1eca-67b2-4b3f-9158-b18d7fccff91",
   "metadata": {
    "tags": []
   },
   "outputs": [
    {
     "name": "stdout",
     "output_type": "stream",
     "text": [
      "Help on function average in module __main__:\n",
      "\n",
      "average(values)\n",
      "    Return average of values,\n",
      "    or None if no values are provided.\n",
      "\n"
     ]
    },
    {
     "data": {
      "application/javascript": [
       "\n",
       "            setTimeout(function() {\n",
       "                var nbb_cell_id = 18;\n",
       "                var nbb_unformatted_code = \"help(average)\";\n",
       "                var nbb_formatted_code = \"help(average)\";\n",
       "                var nbb_cells = Jupyter.notebook.get_cells();\n",
       "                for (var i = 0; i < nbb_cells.length; ++i) {\n",
       "                    if (nbb_cells[i].input_prompt_number == nbb_cell_id) {\n",
       "                        if (nbb_cells[i].get_text() == nbb_unformatted_code) {\n",
       "                             nbb_cells[i].set_text(nbb_formatted_code);\n",
       "                        }\n",
       "                        break;\n",
       "                    }\n",
       "                }\n",
       "            }, 500);\n",
       "            "
      ],
      "text/plain": [
       "<IPython.core.display.Javascript object>"
      ]
     },
     "metadata": {},
     "output_type": "display_data"
    }
   ],
   "source": [
    "help(average)"
   ]
  },
  {
   "cell_type": "code",
   "execution_count": 19,
   "id": "5e52f609-39ea-499f-8d55-759a5ae50cd5",
   "metadata": {
    "tags": []
   },
   "outputs": [
    {
     "name": "stdout",
     "output_type": "stream",
     "text": [
      "et cetera\n",
      "*****-***\n",
      "----*-*--\n",
      "---*---*-\n",
      "--*-*-*-*\n",
      "**-------\n",
      "***-----*\n",
      "--**---**\n",
      "*****-***\n",
      "----*-*--\n",
      "---*---*-\n"
     ]
    },
    {
     "data": {
      "application/javascript": [
       "\n",
       "            setTimeout(function() {\n",
       "                var nbb_cell_id = 19;\n",
       "                var nbb_unformatted_code = \"n = 10\\ns = 'et cetera'\\nprint(s)\\ni = 0\\nwhile i < n:\\n    # print('at', j)\\n    new = ''\\n    for j in range(len(s)):\\n        left = j-1\\n        right = (j+1)%len(s)\\n        if s[left]==s[right]: new = new + '-'\\n        else: new = new + '*'\\n    s=''.join(new)\\n    print(s)\\n    i += 1\";\n",
       "                var nbb_formatted_code = \"n = 10\\ns = \\\"et cetera\\\"\\nprint(s)\\ni = 0\\nwhile i < n:\\n    # print('at', j)\\n    new = \\\"\\\"\\n    for j in range(len(s)):\\n        left = j - 1\\n        right = (j + 1) % len(s)\\n        if s[left] == s[right]:\\n            new = new + \\\"-\\\"\\n        else:\\n            new = new + \\\"*\\\"\\n    s = \\\"\\\".join(new)\\n    print(s)\\n    i += 1\";\n",
       "                var nbb_cells = Jupyter.notebook.get_cells();\n",
       "                for (var i = 0; i < nbb_cells.length; ++i) {\n",
       "                    if (nbb_cells[i].input_prompt_number == nbb_cell_id) {\n",
       "                        if (nbb_cells[i].get_text() == nbb_unformatted_code) {\n",
       "                             nbb_cells[i].set_text(nbb_formatted_code);\n",
       "                        }\n",
       "                        break;\n",
       "                    }\n",
       "                }\n",
       "            }, 500);\n",
       "            "
      ],
      "text/plain": [
       "<IPython.core.display.Javascript object>"
      ]
     },
     "metadata": {},
     "output_type": "display_data"
    }
   ],
   "source": [
    "n = 10\n",
    "s = \"et cetera\"\n",
    "print(s)\n",
    "i = 0\n",
    "while i < n:\n",
    "    # print('at', j)\n",
    "    new = \"\"\n",
    "    for j in range(len(s)):\n",
    "        left = j - 1\n",
    "        right = (j + 1) % len(s)\n",
    "        if s[left] == s[right]:\n",
    "            new = new + \"-\"\n",
    "        else:\n",
    "            new = new + \"*\"\n",
    "    s = \"\".join(new)\n",
    "    print(s)\n",
    "    i += 1"
   ]
  },
  {
   "cell_type": "code",
   "execution_count": 22,
   "id": "b95eafce-cbfd-4db2-9b5c-738696f24cf8",
   "metadata": {
    "tags": []
   },
   "outputs": [
    {
     "name": "stdout",
     "output_type": "stream",
     "text": [
      "et cetera\n",
      "*****-***\n",
      "----*-*--\n",
      "---*---*-\n",
      "--*-*-*-*\n",
      "**-------\n",
      "***-----*\n",
      "--**---**\n",
      "*****-***\n",
      "----*-*--\n",
      "---*---*-\n"
     ]
    },
    {
     "data": {
      "application/javascript": [
       "\n",
       "            setTimeout(function() {\n",
       "                var nbb_cell_id = 22;\n",
       "                var nbb_unformatted_code = \"def string_mirror_printer(s: str, niter: int):\\n    \\\"\\\"\\\"Given input string s, convert it to a new string that\\n    contains '-' if the flanking characters are the same\\n    and '*' otherwise.\\n    Repeat this conversion for niter iterations.\\\"\\\"\\\"\\n\\n    print(s)\\n\\n    str_len = len(s)\\n    old_str = s\\n    for i in range(n):\\n        new_str = \\\"\\\"\\n        for j in range(str_len):\\n            left = j - 1\\n            right = (j + 1) % str_len\\n            if old_str[left] == old_str[right]:\\n                new_str += \\\"-\\\"\\n            else:\\n                new_str += \\\"*\\\"\\n        print(new_str)\\n        old_str = new_str\\n\\n\\nstring_mirror_printer(\\\"et cetera\\\", 10)\";\n",
       "                var nbb_formatted_code = \"def string_mirror_printer(s: str, niter: int):\\n    \\\"\\\"\\\"Given input string s, convert it to a new string that\\n    contains '-' if the flanking characters are the same\\n    and '*' otherwise.\\n    Repeat this conversion for niter iterations.\\\"\\\"\\\"\\n\\n    print(s)\\n\\n    str_len = len(s)\\n    old_str = s\\n    for i in range(n):\\n        new_str = \\\"\\\"\\n        for j in range(str_len):\\n            left = j - 1\\n            right = (j + 1) % str_len\\n            if old_str[left] == old_str[right]:\\n                new_str += \\\"-\\\"\\n            else:\\n                new_str += \\\"*\\\"\\n        print(new_str)\\n        old_str = new_str\\n\\n\\nstring_mirror_printer(\\\"et cetera\\\", 10)\";\n",
       "                var nbb_cells = Jupyter.notebook.get_cells();\n",
       "                for (var i = 0; i < nbb_cells.length; ++i) {\n",
       "                    if (nbb_cells[i].input_prompt_number == nbb_cell_id) {\n",
       "                        if (nbb_cells[i].get_text() == nbb_unformatted_code) {\n",
       "                             nbb_cells[i].set_text(nbb_formatted_code);\n",
       "                        }\n",
       "                        break;\n",
       "                    }\n",
       "                }\n",
       "            }, 500);\n",
       "            "
      ],
      "text/plain": [
       "<IPython.core.display.Javascript object>"
      ]
     },
     "metadata": {},
     "output_type": "display_data"
    }
   ],
   "source": [
    "def string_mirror_printer(s: str, niter: int):\n",
    "    \"\"\"Given input string s, convert it to a new string that\n",
    "    contains '-' if the flanking characters are the same\n",
    "    and '*' otherwise.\n",
    "    Repeat this conversion for niter iterations.\"\"\"\n",
    "\n",
    "    print(s)\n",
    "\n",
    "    str_len = len(s)\n",
    "    old_str = s\n",
    "    for i in range(n):\n",
    "        new_str = \"\"\n",
    "        for j in range(str_len):\n",
    "            left = j - 1\n",
    "            right = (j + 1) % str_len\n",
    "            if old_str[left] == old_str[right]:\n",
    "                new_str += \"-\"\n",
    "            else:\n",
    "                new_str += \"*\"\n",
    "        print(new_str)\n",
    "        old_str = new_str\n",
    "\n",
    "\n",
    "string_mirror_printer(\"et cetera\", 10)"
   ]
  },
  {
   "cell_type": "code",
   "execution_count": 23,
   "id": "8beb76fb-c55a-4be5-9f63-3783e3cf054f",
   "metadata": {
    "tags": []
   },
   "outputs": [
    {
     "name": "stdout",
     "output_type": "stream",
     "text": [
      "Help on function string_mirror_printer in module __main__:\n",
      "\n",
      "string_mirror_printer(s: str, niter: int)\n",
      "    Given input string s, convert it to a new string that\n",
      "    contains '-' if the flanking characters are the same\n",
      "    and '*' otherwise.\n",
      "    Repeat this conversion for niter iterations.\n",
      "\n"
     ]
    },
    {
     "data": {
      "application/javascript": [
       "\n",
       "            setTimeout(function() {\n",
       "                var nbb_cell_id = 23;\n",
       "                var nbb_unformatted_code = \"help(string_mirror_printer)\";\n",
       "                var nbb_formatted_code = \"help(string_mirror_printer)\";\n",
       "                var nbb_cells = Jupyter.notebook.get_cells();\n",
       "                for (var i = 0; i < nbb_cells.length; ++i) {\n",
       "                    if (nbb_cells[i].input_prompt_number == nbb_cell_id) {\n",
       "                        if (nbb_cells[i].get_text() == nbb_unformatted_code) {\n",
       "                             nbb_cells[i].set_text(nbb_formatted_code);\n",
       "                        }\n",
       "                        break;\n",
       "                    }\n",
       "                }\n",
       "            }, 500);\n",
       "            "
      ],
      "text/plain": [
       "<IPython.core.display.Javascript object>"
      ]
     },
     "metadata": {},
     "output_type": "display_data"
    }
   ],
   "source": [
    "help(string_mirror_printer)"
   ]
  },
  {
   "cell_type": "code",
   "execution_count": null,
   "id": "ebf0c5c5-d6a9-4b95-b3f7-c1a79be23090",
   "metadata": {},
   "outputs": [],
   "source": []
  }
 ],
 "metadata": {
  "kernelspec": {
   "display_name": "Python 3 (ipykernel)",
   "language": "python",
   "name": "python3"
  },
  "language_info": {
   "codemirror_mode": {
    "name": "ipython",
    "version": 3
   },
   "file_extension": ".py",
   "mimetype": "text/x-python",
   "name": "python",
   "nbconvert_exporter": "python",
   "pygments_lexer": "ipython3",
   "version": "3.9.12"
  }
 },
 "nbformat": 4,
 "nbformat_minor": 5
}
