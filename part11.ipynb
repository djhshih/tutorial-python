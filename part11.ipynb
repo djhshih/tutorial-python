{
 "cells": [
  {
   "cell_type": "markdown",
   "id": "7f6665fd-a899-4b13-a389-aec192ed6089",
   "metadata": {},
   "source": [
    "# Lists"
   ]
  },
  {
   "cell_type": "code",
   "execution_count": 1,
   "id": "96548e45-db82-4e40-ac94-115d74322456",
   "metadata": {
    "tags": []
   },
   "outputs": [
    {
     "data": {
      "text/plain": [
       "[0.273, 0.275, 0.277, 0.275, 0.276]"
      ]
     },
     "execution_count": 1,
     "metadata": {},
     "output_type": "execute_result"
    }
   ],
   "source": [
    "pressures = [0.273, 0.275, 0.277, 0.275, 0.276]\n",
    "pressures"
   ]
  },
  {
   "cell_type": "code",
   "execution_count": 2,
   "id": "4c7c0900-f841-42eb-b108-d50d91cc7053",
   "metadata": {
    "tags": []
   },
   "outputs": [
    {
     "data": {
      "text/plain": [
       "5"
      ]
     },
     "execution_count": 2,
     "metadata": {},
     "output_type": "execute_result"
    }
   ],
   "source": [
    "len(pressures)"
   ]
  },
  {
   "cell_type": "code",
   "execution_count": 3,
   "id": "d9a21223-1eb7-483c-aabb-e006e5b4f62b",
   "metadata": {
    "tags": []
   },
   "outputs": [
    {
     "data": {
      "text/plain": [
       "0.273"
      ]
     },
     "execution_count": 3,
     "metadata": {},
     "output_type": "execute_result"
    }
   ],
   "source": [
    "pressures[0]"
   ]
  },
  {
   "cell_type": "code",
   "execution_count": 4,
   "id": "dbd0b299-cf32-4d58-8963-cc804f4dfbdb",
   "metadata": {
    "tags": []
   },
   "outputs": [
    {
     "data": {
      "text/plain": [
       "0.276"
      ]
     },
     "execution_count": 4,
     "metadata": {},
     "output_type": "execute_result"
    }
   ],
   "source": [
    "pressures[4]"
   ]
  },
  {
   "cell_type": "code",
   "execution_count": 5,
   "id": "51183512-3850-4df5-8ee0-ce393cac1c4e",
   "metadata": {
    "tags": []
   },
   "outputs": [
    {
     "data": {
      "text/plain": [
       "[0.265, 0.275, 0.277, 0.275, 0.276]"
      ]
     },
     "execution_count": 5,
     "metadata": {},
     "output_type": "execute_result"
    }
   ],
   "source": [
    "pressures[0] = 0.265\n",
    "pressures"
   ]
  },
  {
   "cell_type": "markdown",
   "id": "1df8b5a6-8094-431f-927f-b9be45bb0e92",
   "metadata": {},
   "source": [
    "## Appending"
   ]
  },
  {
   "cell_type": "code",
   "execution_count": 6,
   "id": "ae238d84-0603-48eb-9c77-5cdbfcfd3f12",
   "metadata": {
    "tags": []
   },
   "outputs": [],
   "source": [
    "primes = [2, 3, 5, 7, 11, 13, 17, 19]"
   ]
  },
  {
   "cell_type": "code",
   "execution_count": 7,
   "id": "70eb1f04-cafe-4417-922c-bfc53cd1d43d",
   "metadata": {
    "tags": []
   },
   "outputs": [],
   "source": [
    "primes.append(23)"
   ]
  },
  {
   "cell_type": "code",
   "execution_count": 8,
   "id": "ffb9674c-7439-4f66-bae1-57747a52f3bc",
   "metadata": {
    "tags": []
   },
   "outputs": [
    {
     "data": {
      "text/plain": [
       "[2, 3, 5, 7, 11, 13, 17, 19, 23]"
      ]
     },
     "execution_count": 8,
     "metadata": {},
     "output_type": "execute_result"
    }
   ],
   "source": [
    "primes"
   ]
  },
  {
   "cell_type": "code",
   "execution_count": 9,
   "id": "166068e1-537c-4972-b60a-95ceec702416",
   "metadata": {
    "tags": []
   },
   "outputs": [],
   "source": [
    "primes.append('29')"
   ]
  },
  {
   "cell_type": "code",
   "execution_count": 10,
   "id": "8363053f-cee1-4556-8cc8-ab61098698f6",
   "metadata": {
    "tags": []
   },
   "outputs": [
    {
     "data": {
      "text/plain": [
       "[2, 3, 5, 7, 11, 13, 17, 19, 23, '29']"
      ]
     },
     "execution_count": 10,
     "metadata": {},
     "output_type": "execute_result"
    }
   ],
   "source": [
    "primes"
   ]
  },
  {
   "cell_type": "code",
   "execution_count": 11,
   "id": "a73f6155-5eb7-409f-a361-0739ca112c7e",
   "metadata": {
    "tags": []
   },
   "outputs": [],
   "source": [
    "teen_primes = [11, 13, 17, 19]\n",
    "middle_aged_primes = [37, 41, 43, 47]"
   ]
  },
  {
   "cell_type": "code",
   "execution_count": 17,
   "id": "44a47b87-9ab7-4e05-908f-362c290d2004",
   "metadata": {
    "tags": []
   },
   "outputs": [],
   "source": [
    "primes = [2, 3, 5, 7]"
   ]
  },
  {
   "cell_type": "code",
   "execution_count": 18,
   "id": "bf8e2950-ad07-4d8e-a762-ec39d1b74da3",
   "metadata": {
    "tags": []
   },
   "outputs": [
    {
     "data": {
      "text/plain": [
       "[2, 3, 5, 7]"
      ]
     },
     "execution_count": 18,
     "metadata": {},
     "output_type": "execute_result"
    }
   ],
   "source": [
    "primes"
   ]
  },
  {
   "cell_type": "code",
   "execution_count": 19,
   "id": "f4f9700c-b2d1-4202-924b-2a453c8ddda4",
   "metadata": {
    "tags": []
   },
   "outputs": [
    {
     "data": {
      "text/plain": [
       "[2, 3, 5, 7, 11, 13, 17, 19]"
      ]
     },
     "execution_count": 19,
     "metadata": {},
     "output_type": "execute_result"
    }
   ],
   "source": [
    "primes.extend(teen_primes)\n",
    "primes"
   ]
  },
  {
   "cell_type": "code",
   "execution_count": 20,
   "id": "6adb0067-d54b-40e0-ac99-abde8d49857a",
   "metadata": {
    "tags": []
   },
   "outputs": [
    {
     "data": {
      "text/plain": [
       "[2, 3, 5, 7, 11, 13, 17, 19, [37, 41, 43, 47]]"
      ]
     },
     "execution_count": 20,
     "metadata": {},
     "output_type": "execute_result"
    }
   ],
   "source": [
    "primes.append(middle_aged_primes)\n",
    "primes"
   ]
  },
  {
   "cell_type": "code",
   "execution_count": 21,
   "id": "5ad7360b-4935-4e31-a36b-ad623bb3748c",
   "metadata": {
    "tags": []
   },
   "outputs": [
    {
     "data": {
      "text/plain": [
       "9"
      ]
     },
     "execution_count": 21,
     "metadata": {},
     "output_type": "execute_result"
    }
   ],
   "source": [
    "len(primes)\n"
   ]
  },
  {
   "cell_type": "code",
   "execution_count": 23,
   "id": "769dffde-7d0a-4ca9-a9af-fd2acef88b52",
   "metadata": {
    "tags": []
   },
   "outputs": [],
   "source": [
    "primes = [2, 3, 5, 7, 9]\n",
    "del primes[4]"
   ]
  },
  {
   "cell_type": "code",
   "execution_count": 24,
   "id": "2a8f0c31-d026-4fb7-a88c-ab7d88b34618",
   "metadata": {
    "tags": []
   },
   "outputs": [
    {
     "data": {
      "text/plain": [
       "[2, 3, 5, 7]"
      ]
     },
     "execution_count": 24,
     "metadata": {},
     "output_type": "execute_result"
    }
   ],
   "source": [
    "primes"
   ]
  },
  {
   "cell_type": "code",
   "execution_count": 25,
   "id": "62f1b58c-1a5c-46a6-9a0f-58fa4708736a",
   "metadata": {
    "tags": []
   },
   "outputs": [],
   "source": [
    "primes = []"
   ]
  },
  {
   "cell_type": "code",
   "execution_count": 26,
   "id": "1af0a716-f662-4af3-a8b7-ac1491340995",
   "metadata": {
    "tags": []
   },
   "outputs": [
    {
     "data": {
      "text/plain": [
       "[]"
      ]
     },
     "execution_count": 26,
     "metadata": {},
     "output_type": "execute_result"
    }
   ],
   "source": [
    "primes"
   ]
  },
  {
   "cell_type": "code",
   "execution_count": 27,
   "id": "7523c525-a0d4-43ff-aed3-446c51a101d8",
   "metadata": {
    "tags": []
   },
   "outputs": [
    {
     "data": {
      "text/plain": [
       "False"
      ]
     },
     "execution_count": 27,
     "metadata": {},
     "output_type": "execute_result"
    }
   ],
   "source": [
    "primes is None"
   ]
  },
  {
   "cell_type": "markdown",
   "id": "f9acacb7-06a0-4409-a073-550826b9dc35",
   "metadata": {},
   "source": [
    "## Strings"
   ]
  },
  {
   "cell_type": "code",
   "execution_count": 28,
   "id": "18561342-a98b-4a67-a664-c7b1416c1636",
   "metadata": {
    "tags": []
   },
   "outputs": [
    {
     "data": {
      "text/plain": [
       "'c'"
      ]
     },
     "execution_count": 28,
     "metadata": {},
     "output_type": "execute_result"
    }
   ],
   "source": [
    "element = 'carbon'\n",
    "element[0]"
   ]
  },
  {
   "cell_type": "code",
   "execution_count": 29,
   "id": "ed7c1a41-ad04-4f1c-9e4b-8e34cedad2d1",
   "metadata": {
    "tags": []
   },
   "outputs": [
    {
     "ename": "TypeError",
     "evalue": "'str' object does not support item assignment",
     "output_type": "error",
     "traceback": [
      "\u001b[0;31m---------------------------------------------------------------------------\u001b[0m",
      "\u001b[0;31mTypeError\u001b[0m                                 Traceback (most recent call last)",
      "Cell \u001b[0;32mIn[29], line 1\u001b[0m\n\u001b[0;32m----> 1\u001b[0m element[\u001b[38;5;241m0\u001b[39m] \u001b[38;5;241m=\u001b[39m \u001b[38;5;124m'\u001b[39m\u001b[38;5;124mC\u001b[39m\u001b[38;5;124m'\u001b[39m\n",
      "\u001b[0;31mTypeError\u001b[0m: 'str' object does not support item assignment"
     ]
    }
   ],
   "source": [
    "element[0] = 'C'"
   ]
  },
  {
   "cell_type": "code",
   "execution_count": 30,
   "id": "da17afe7-a53c-4ebd-a627-00a19b42d890",
   "metadata": {
    "tags": []
   },
   "outputs": [],
   "source": [
    "element_list = list(element)"
   ]
  },
  {
   "cell_type": "code",
   "execution_count": 31,
   "id": "fd5e7a96-7f28-49f6-9b2e-40c10f2ce66d",
   "metadata": {
    "tags": []
   },
   "outputs": [
    {
     "data": {
      "text/plain": [
       "['c', 'a', 'r', 'b', 'o', 'n']"
      ]
     },
     "execution_count": 31,
     "metadata": {},
     "output_type": "execute_result"
    }
   ],
   "source": [
    "element_list"
   ]
  },
  {
   "cell_type": "code",
   "execution_count": 32,
   "id": "65543957-0646-48bf-9d1a-9f612b706226",
   "metadata": {
    "tags": []
   },
   "outputs": [],
   "source": [
    "element_list[0] = 'C'"
   ]
  },
  {
   "cell_type": "code",
   "execution_count": 33,
   "id": "3726382f-f797-4373-95ed-2048d5bcf605",
   "metadata": {
    "tags": []
   },
   "outputs": [
    {
     "data": {
      "text/plain": [
       "['C', 'a', 'r', 'b', 'o', 'n']"
      ]
     },
     "execution_count": 33,
     "metadata": {},
     "output_type": "execute_result"
    }
   ],
   "source": [
    "element_list"
   ]
  },
  {
   "cell_type": "code",
   "execution_count": 36,
   "id": "951b1eaf-304e-4cf1-ad0a-4fed801b5f59",
   "metadata": {
    "tags": []
   },
   "outputs": [],
   "source": [
    "new_element = element.replace('c', 'C')"
   ]
  },
  {
   "cell_type": "code",
   "execution_count": 37,
   "id": "dd880b49-ceef-4c77-936c-b59ac5247341",
   "metadata": {
    "tags": []
   },
   "outputs": [
    {
     "data": {
      "text/plain": [
       "'carbon'"
      ]
     },
     "execution_count": 37,
     "metadata": {},
     "output_type": "execute_result"
    }
   ],
   "source": [
    "element"
   ]
  },
  {
   "cell_type": "code",
   "execution_count": 38,
   "id": "ae173b68-b2e7-4a55-b9b7-c2150a475847",
   "metadata": {
    "tags": []
   },
   "outputs": [
    {
     "data": {
      "text/plain": [
       "'Carbon'"
      ]
     },
     "execution_count": 38,
     "metadata": {},
     "output_type": "execute_result"
    }
   ],
   "source": [
    "new_element"
   ]
  },
  {
   "cell_type": "markdown",
   "id": "f9a17290-0752-4ad4-9a4e-166513d32737",
   "metadata": {},
   "source": [
    "## Index error"
   ]
  },
  {
   "cell_type": "code",
   "execution_count": 39,
   "id": "9422311c-fe82-47ee-97cf-bd665d940931",
   "metadata": {
    "tags": []
   },
   "outputs": [
    {
     "data": {
      "text/plain": [
       "6"
      ]
     },
     "execution_count": 39,
     "metadata": {},
     "output_type": "execute_result"
    }
   ],
   "source": [
    "len(element)"
   ]
  },
  {
   "cell_type": "code",
   "execution_count": 40,
   "id": "2406d8a8-6ce6-4de7-8b3e-e9d30701d7d0",
   "metadata": {
    "tags": []
   },
   "outputs": [
    {
     "ename": "IndexError",
     "evalue": "string index out of range",
     "output_type": "error",
     "traceback": [
      "\u001b[0;31m---------------------------------------------------------------------------\u001b[0m",
      "\u001b[0;31mIndexError\u001b[0m                                Traceback (most recent call last)",
      "Cell \u001b[0;32mIn[40], line 1\u001b[0m\n\u001b[0;32m----> 1\u001b[0m \u001b[43melement\u001b[49m\u001b[43m[\u001b[49m\u001b[38;5;241;43m6\u001b[39;49m\u001b[43m]\u001b[49m\n",
      "\u001b[0;31mIndexError\u001b[0m: string index out of range"
     ]
    }
   ],
   "source": [
    "element[6]"
   ]
  },
  {
   "cell_type": "code",
   "execution_count": 41,
   "id": "604535ba-c021-43c7-8866-a4bdb61fcee4",
   "metadata": {
    "tags": []
   },
   "outputs": [
    {
     "data": {
      "text/plain": [
       "'carbon'"
      ]
     },
     "execution_count": 41,
     "metadata": {},
     "output_type": "execute_result"
    }
   ],
   "source": [
    "element"
   ]
  },
  {
   "cell_type": "code",
   "execution_count": 45,
   "id": "0590dbe5-c43f-43c4-b4c4-3003cd78f1a9",
   "metadata": {
    "tags": []
   },
   "outputs": [
    {
     "data": {
      "text/plain": [
       "['c', 'a', 'r', 'b', 'o', 'n']"
      ]
     },
     "execution_count": 45,
     "metadata": {},
     "output_type": "execute_result"
    }
   ],
   "source": [
    "element_list = list(element)\n",
    "element_list"
   ]
  },
  {
   "cell_type": "code",
   "execution_count": 46,
   "id": "02761159-ab0e-4ba8-835b-cf966ac08ca9",
   "metadata": {
    "tags": []
   },
   "outputs": [
    {
     "data": {
      "text/plain": [
       "'carbon'"
      ]
     },
     "execution_count": 46,
     "metadata": {},
     "output_type": "execute_result"
    }
   ],
   "source": [
    "''.join(element_list)"
   ]
  },
  {
   "cell_type": "code",
   "execution_count": 48,
   "id": "995413cc-bc29-469c-9461-7801fba9c304",
   "metadata": {
    "tags": []
   },
   "outputs": [
    {
     "data": {
      "text/plain": [
       "'c,a,r,b,o,n'"
      ]
     },
     "execution_count": 48,
     "metadata": {},
     "output_type": "execute_result"
    }
   ],
   "source": [
    "','.join(element_list)"
   ]
  },
  {
   "cell_type": "markdown",
   "id": "fb66e3cf-86a4-44a8-a494-33dd031d8331",
   "metadata": {},
   "source": [
    "## End indexing"
   ]
  },
  {
   "cell_type": "code",
   "execution_count": 49,
   "id": "ad390d09-3572-44aa-ab23-9deaaf66310a",
   "metadata": {
    "tags": []
   },
   "outputs": [
    {
     "data": {
      "text/plain": [
       "'carbon'"
      ]
     },
     "execution_count": 49,
     "metadata": {},
     "output_type": "execute_result"
    }
   ],
   "source": [
    "element"
   ]
  },
  {
   "cell_type": "code",
   "execution_count": 50,
   "id": "0d7cafa8-477d-4d14-aa1f-e8f702b1a98a",
   "metadata": {
    "tags": []
   },
   "outputs": [
    {
     "data": {
      "text/plain": [
       "'n'"
      ]
     },
     "execution_count": 50,
     "metadata": {},
     "output_type": "execute_result"
    }
   ],
   "source": [
    "element[len(element)-1]"
   ]
  },
  {
   "cell_type": "code",
   "execution_count": 51,
   "id": "641e0760-1c21-477e-aa27-e0e3c148c346",
   "metadata": {
    "tags": []
   },
   "outputs": [
    {
     "data": {
      "text/plain": [
       "'n'"
      ]
     },
     "execution_count": 51,
     "metadata": {},
     "output_type": "execute_result"
    }
   ],
   "source": [
    "element[-1]"
   ]
  },
  {
   "cell_type": "code",
   "execution_count": 52,
   "id": "4cdfe223-f785-4723-bcd6-78b7b6323f90",
   "metadata": {
    "tags": []
   },
   "outputs": [
    {
     "data": {
      "text/plain": [
       "'carb'"
      ]
     },
     "execution_count": 52,
     "metadata": {},
     "output_type": "execute_result"
    }
   ],
   "source": [
    "element[0:4]"
   ]
  },
  {
   "cell_type": "code",
   "execution_count": 53,
   "id": "57d19467-fb6e-4af6-9f44-e36f5e54e0f8",
   "metadata": {
    "tags": []
   },
   "outputs": [
    {
     "data": {
      "text/plain": [
       "'cr'"
      ]
     },
     "execution_count": 53,
     "metadata": {},
     "output_type": "execute_result"
    }
   ],
   "source": [
    "element[0:4:2]"
   ]
  },
  {
   "cell_type": "code",
   "execution_count": 54,
   "id": "6c23212f-c38b-4070-be82-68986e7530cc",
   "metadata": {
    "tags": []
   },
   "outputs": [
    {
     "data": {
      "text/plain": [
       "'cro'"
      ]
     },
     "execution_count": 54,
     "metadata": {},
     "output_type": "execute_result"
    }
   ],
   "source": [
    "element[::2]"
   ]
  },
  {
   "cell_type": "code",
   "execution_count": 55,
   "id": "d5c41876-656b-4c77-aa71-466bd1c4aa1e",
   "metadata": {
    "tags": []
   },
   "outputs": [
    {
     "data": {
      "text/plain": [
       "'nobrac'"
      ]
     },
     "execution_count": 55,
     "metadata": {},
     "output_type": "execute_result"
    }
   ],
   "source": [
    "element[::-1]"
   ]
  },
  {
   "cell_type": "markdown",
   "id": "8b59f668-a462-4c85-ab3f-f82debaaa13b",
   "metadata": {},
   "source": [
    "## Slice bounds"
   ]
  },
  {
   "cell_type": "code",
   "execution_count": 56,
   "id": "1880eb27-319c-4f76-9e56-b1f3302ee1c1",
   "metadata": {
    "tags": []
   },
   "outputs": [],
   "source": [
    "element = 'lithium'"
   ]
  },
  {
   "cell_type": "code",
   "execution_count": 59,
   "id": "b3637f1c-6105-49cb-afc3-c235fe74d9b3",
   "metadata": {
    "tags": []
   },
   "outputs": [
    {
     "data": {
      "text/plain": [
       "'lithium'"
      ]
     },
     "execution_count": 59,
     "metadata": {},
     "output_type": "execute_result"
    }
   ],
   "source": [
    "element[0:20]"
   ]
  },
  {
   "cell_type": "code",
   "execution_count": 61,
   "id": "13824cd0-4d01-47c0-b3f3-07d5a3a2a180",
   "metadata": {
    "tags": []
   },
   "outputs": [
    {
     "data": {
      "text/plain": [
       "'mui'"
      ]
     },
     "execution_count": 61,
     "metadata": {},
     "output_type": "execute_result"
    }
   ],
   "source": [
    "element[-1:3:-1]"
   ]
  },
  {
   "cell_type": "code",
   "execution_count": 62,
   "id": "c17847b2-6cac-4fa6-ac64-3d83d5f1d144",
   "metadata": {
    "tags": []
   },
   "outputs": [
    {
     "data": {
      "text/plain": [
       "'u'"
      ]
     },
     "execution_count": 62,
     "metadata": {},
     "output_type": "execute_result"
    }
   ],
   "source": [
    "element[-2]"
   ]
  },
  {
   "cell_type": "code",
   "execution_count": 63,
   "id": "2c5556cf-9e87-4162-9168-8b5287331e34",
   "metadata": {
    "tags": []
   },
   "outputs": [
    {
     "data": {
      "text/plain": [
       "'u'"
      ]
     },
     "execution_count": 63,
     "metadata": {},
     "output_type": "execute_result"
    }
   ],
   "source": [
    "element[5]"
   ]
  },
  {
   "cell_type": "markdown",
   "id": "2a3f1f1a-3fd5-48ad-89bc-e58b29de5981",
   "metadata": {},
   "source": [
    "## Sorting"
   ]
  },
  {
   "cell_type": "code",
   "execution_count": 64,
   "id": "206bad36-0f79-4d25-9c95-85d840d7b982",
   "metadata": {
    "tags": []
   },
   "outputs": [
    {
     "data": {
      "text/plain": [
       "['h', 'i', 'i', 'l', 'm', 't', 'u']"
      ]
     },
     "execution_count": 64,
     "metadata": {},
     "output_type": "execute_result"
    }
   ],
   "source": [
    "sorted(element)"
   ]
  },
  {
   "cell_type": "code",
   "execution_count": 65,
   "id": "726d4c0d-e03f-4d9a-95a6-88994bccd9fd",
   "metadata": {
    "tags": []
   },
   "outputs": [],
   "source": [
    "element = sorted(element)"
   ]
  },
  {
   "cell_type": "code",
   "execution_count": 66,
   "id": "c08b0fa5-1c7f-4b3e-8e8f-d3da35c843d8",
   "metadata": {
    "tags": []
   },
   "outputs": [
    {
     "data": {
      "text/plain": [
       "['h', 'i', 'i', 'l', 'm', 't', 'u']"
      ]
     },
     "execution_count": 66,
     "metadata": {},
     "output_type": "execute_result"
    }
   ],
   "source": [
    "element"
   ]
  },
  {
   "cell_type": "code",
   "execution_count": 67,
   "id": "173f3d09-e1c2-4979-bee8-fa04c78764f6",
   "metadata": {
    "tags": []
   },
   "outputs": [],
   "source": [
    "element = list('gold')"
   ]
  },
  {
   "cell_type": "code",
   "execution_count": 68,
   "id": "1bf82845-493b-4859-8ab6-7af1188374b5",
   "metadata": {
    "tags": []
   },
   "outputs": [],
   "source": [
    "element.sort()"
   ]
  },
  {
   "cell_type": "code",
   "execution_count": 69,
   "id": "257b611e-579e-473e-b753-31530e7d8586",
   "metadata": {
    "tags": []
   },
   "outputs": [
    {
     "data": {
      "text/plain": [
       "['d', 'g', 'l', 'o']"
      ]
     },
     "execution_count": 69,
     "metadata": {},
     "output_type": "execute_result"
    }
   ],
   "source": [
    "element"
   ]
  },
  {
   "cell_type": "markdown",
   "id": "4ecb2c68-4cd5-466b-8bd0-3d5df7a55b82",
   "metadata": {},
   "source": [
    "## Copying"
   ]
  },
  {
   "cell_type": "code",
   "execution_count": 70,
   "id": "c931bebd-a14e-4385-8da1-c6399d10df64",
   "metadata": {
    "tags": []
   },
   "outputs": [
    {
     "data": {
      "text/plain": [
       "['g', 'o', 'l', 'd']"
      ]
     },
     "execution_count": 70,
     "metadata": {},
     "output_type": "execute_result"
    }
   ],
   "source": [
    "old = list('gold')\n",
    "old"
   ]
  },
  {
   "cell_type": "code",
   "execution_count": 71,
   "id": "06f4fb24-35b0-4cac-9c5e-3112e7196da4",
   "metadata": {
    "tags": []
   },
   "outputs": [],
   "source": [
    "new = old\n",
    "new[0] = 'D'"
   ]
  },
  {
   "cell_type": "code",
   "execution_count": 72,
   "id": "53cd7197-72ed-443e-a63f-356870457407",
   "metadata": {
    "tags": []
   },
   "outputs": [
    {
     "data": {
      "text/plain": [
       "['D', 'o', 'l', 'd']"
      ]
     },
     "execution_count": 72,
     "metadata": {},
     "output_type": "execute_result"
    }
   ],
   "source": [
    "new"
   ]
  },
  {
   "cell_type": "code",
   "execution_count": 74,
   "id": "0eac65e6-62d9-4700-acb6-32d660a3c3d8",
   "metadata": {
    "tags": []
   },
   "outputs": [
    {
     "data": {
      "text/plain": [
       "['D', 'o', 'l', 'd']"
      ]
     },
     "execution_count": 74,
     "metadata": {},
     "output_type": "execute_result"
    }
   ],
   "source": [
    "old"
   ]
  },
  {
   "cell_type": "code",
   "execution_count": 75,
   "id": "cd4bfc27-d1c7-48fc-ad0d-920e35d1e943",
   "metadata": {
    "tags": []
   },
   "outputs": [
    {
     "data": {
      "text/plain": [
       "10"
      ]
     },
     "execution_count": 75,
     "metadata": {},
     "output_type": "execute_result"
    }
   ],
   "source": [
    "old = 10\n",
    "old"
   ]
  },
  {
   "cell_type": "code",
   "execution_count": 76,
   "id": "26a50c42-2c85-487f-b1fb-e99e2a01809a",
   "metadata": {
    "tags": []
   },
   "outputs": [],
   "source": [
    "new = old\n",
    "new = 20"
   ]
  },
  {
   "cell_type": "code",
   "execution_count": 77,
   "id": "5d5e359c-091e-4e2e-8de1-a36b97e9dd9b",
   "metadata": {
    "tags": []
   },
   "outputs": [
    {
     "data": {
      "text/plain": [
       "20"
      ]
     },
     "execution_count": 77,
     "metadata": {},
     "output_type": "execute_result"
    }
   ],
   "source": [
    "new"
   ]
  },
  {
   "cell_type": "code",
   "execution_count": 78,
   "id": "8e4a8d77-afff-4124-aa38-9f611cb2b159",
   "metadata": {
    "tags": []
   },
   "outputs": [
    {
     "data": {
      "text/plain": [
       "10"
      ]
     },
     "execution_count": 78,
     "metadata": {},
     "output_type": "execute_result"
    }
   ],
   "source": [
    "old"
   ]
  },
  {
   "cell_type": "code",
   "execution_count": 79,
   "id": "94688f22-40e6-4f88-97ba-40b5faa721ce",
   "metadata": {
    "tags": []
   },
   "outputs": [],
   "source": [
    "old = [1, 2, 3, 4]\n",
    "new = old"
   ]
  },
  {
   "cell_type": "code",
   "execution_count": 80,
   "id": "dbb62c9f-d700-4c90-a443-6fbe145a589d",
   "metadata": {
    "tags": []
   },
   "outputs": [],
   "source": [
    "new = [2, 3, 4, 5]"
   ]
  },
  {
   "cell_type": "code",
   "execution_count": 81,
   "id": "826c1366-a459-4f34-8289-45110646f0ee",
   "metadata": {
    "tags": []
   },
   "outputs": [
    {
     "data": {
      "text/plain": [
       "[2, 3, 4, 5]"
      ]
     },
     "execution_count": 81,
     "metadata": {},
     "output_type": "execute_result"
    }
   ],
   "source": [
    "new"
   ]
  },
  {
   "cell_type": "code",
   "execution_count": 82,
   "id": "eb189762-7cec-443c-8e87-4e1f32145e4d",
   "metadata": {
    "tags": []
   },
   "outputs": [
    {
     "data": {
      "text/plain": [
       "[1, 2, 3, 4]"
      ]
     },
     "execution_count": 82,
     "metadata": {},
     "output_type": "execute_result"
    }
   ],
   "source": [
    "old"
   ]
  },
  {
   "cell_type": "markdown",
   "id": "ba4315dc-2fbe-468c-b810-8e295194c615",
   "metadata": {},
   "source": [
    "## Assigning a slice"
   ]
  },
  {
   "cell_type": "code",
   "execution_count": 84,
   "id": "559c1a53-e5bb-44ce-aeaa-22b989d18f90",
   "metadata": {
    "tags": []
   },
   "outputs": [
    {
     "data": {
      "text/plain": [
       "[1, 2, 3, 4]"
      ]
     },
     "execution_count": 84,
     "metadata": {},
     "output_type": "execute_result"
    }
   ],
   "source": [
    "old = [1, 2, 3, 4]\n",
    "old"
   ]
  },
  {
   "cell_type": "code",
   "execution_count": 85,
   "id": "5f612f3f-2b73-4b72-9d00-27fe70a6264e",
   "metadata": {
    "tags": []
   },
   "outputs": [],
   "source": [
    "new = old[:]\n",
    "new[0] = 5"
   ]
  },
  {
   "cell_type": "code",
   "execution_count": 86,
   "id": "67982b8b-7eb2-46f2-b499-c8fa9b3694d0",
   "metadata": {
    "tags": []
   },
   "outputs": [
    {
     "data": {
      "text/plain": [
       "[5, 2, 3, 4]"
      ]
     },
     "execution_count": 86,
     "metadata": {},
     "output_type": "execute_result"
    }
   ],
   "source": [
    "new"
   ]
  },
  {
   "cell_type": "code",
   "execution_count": 87,
   "id": "d0edf413-4ad2-43e7-ae4e-589d5b309dba",
   "metadata": {
    "tags": []
   },
   "outputs": [
    {
     "data": {
      "text/plain": [
       "[1, 2, 3, 4]"
      ]
     },
     "execution_count": 87,
     "metadata": {},
     "output_type": "execute_result"
    }
   ],
   "source": [
    "old"
   ]
  },
  {
   "cell_type": "code",
   "execution_count": null,
   "id": "f1c94ca2-2c27-4a2a-8837-77777eb3ba75",
   "metadata": {},
   "outputs": [],
   "source": []
  }
 ],
 "metadata": {
  "kernelspec": {
   "display_name": "Python 3 (ipykernel)",
   "language": "python",
   "name": "python3"
  },
  "language_info": {
   "codemirror_mode": {
    "name": "ipython",
    "version": 3
   },
   "file_extension": ".py",
   "mimetype": "text/x-python",
   "name": "python",
   "nbconvert_exporter": "python",
   "pygments_lexer": "ipython3",
   "version": "3.9.12"
  }
 },
 "nbformat": 4,
 "nbformat_minor": 5
}
