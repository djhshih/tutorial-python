{
 "cells": [
  {
   "cell_type": "markdown",
   "id": "2e204eb5-b7f6-42a1-811d-dc6ae7fb1f0c",
   "metadata": {},
   "source": [
    "# Data Types and Type Conversion"
   ]
  },
  {
   "cell_type": "code",
   "execution_count": 1,
   "id": "978285ab-87c9-4ae1-8674-ed30d46e5186",
   "metadata": {},
   "outputs": [
    {
     "data": {
      "text/plain": [
       "str"
      ]
     },
     "execution_count": 1,
     "metadata": {},
     "output_type": "execute_result"
    }
   ],
   "source": [
    "int\n",
    "float\n",
    "str"
   ]
  },
  {
   "cell_type": "code",
   "execution_count": 2,
   "id": "ba5a3895-c793-4599-8827-fc1b7daf32e0",
   "metadata": {},
   "outputs": [
    {
     "data": {
      "text/plain": [
       "int"
      ]
     },
     "execution_count": 2,
     "metadata": {},
     "output_type": "execute_result"
    }
   ],
   "source": [
    "type(52)"
   ]
  },
  {
   "cell_type": "code",
   "execution_count": 3,
   "id": "745a8daa-2cb9-45a0-b213-b381f6f080b5",
   "metadata": {},
   "outputs": [
    {
     "data": {
      "text/plain": [
       "float"
      ]
     },
     "execution_count": 3,
     "metadata": {},
     "output_type": "execute_result"
    }
   ],
   "source": [
    "type(52.0)"
   ]
  },
  {
   "cell_type": "code",
   "execution_count": 5,
   "id": "c0d50bf8-3f51-4796-b86a-96c79eed99c4",
   "metadata": {},
   "outputs": [],
   "source": [
    "fitness = 'average'"
   ]
  },
  {
   "cell_type": "code",
   "execution_count": 6,
   "id": "a8884a9a-e881-4605-b11a-e0df63cfe2e3",
   "metadata": {},
   "outputs": [
    {
     "data": {
      "text/plain": [
       "str"
      ]
     },
     "execution_count": 6,
     "metadata": {},
     "output_type": "execute_result"
    }
   ],
   "source": [
    "type(fitness)"
   ]
  },
  {
   "cell_type": "code",
   "execution_count": 7,
   "id": "25ce761b-f259-43dc-aa17-b42c935f14f3",
   "metadata": {},
   "outputs": [
    {
     "data": {
      "text/plain": [
       "2"
      ]
     },
     "execution_count": 7,
     "metadata": {},
     "output_type": "execute_result"
    }
   ],
   "source": [
    "5 - 3"
   ]
  },
  {
   "cell_type": "code",
   "execution_count": 11,
   "id": "8093ae1f-f3fb-4f38-80bc-92af67bd2b64",
   "metadata": {},
   "outputs": [
    {
     "data": {
      "text/plain": [
       "8"
      ]
     },
     "execution_count": 11,
     "metadata": {},
     "output_type": "execute_result"
    }
   ],
   "source": [
    "5 + 3"
   ]
  },
  {
   "cell_type": "code",
   "execution_count": 8,
   "id": "b93d8ecc-28d1-4337-b252-1f5ee3839189",
   "metadata": {},
   "outputs": [
    {
     "ename": "TypeError",
     "evalue": "unsupported operand type(s) for -: 'str' and 'str'",
     "output_type": "error",
     "traceback": [
      "\u001b[0;31m---------------------------------------------------------------------------\u001b[0m",
      "\u001b[0;31mTypeError\u001b[0m                                 Traceback (most recent call last)",
      "Cell \u001b[0;32mIn [8], line 1\u001b[0m\n\u001b[0;32m----> 1\u001b[0m \u001b[38;5;124;43m'\u001b[39;49m\u001b[38;5;124;43mhello\u001b[39;49m\u001b[38;5;124;43m'\u001b[39;49m\u001b[43m \u001b[49m\u001b[38;5;241;43m-\u001b[39;49m\u001b[43m \u001b[49m\u001b[38;5;124;43m'\u001b[39;49m\u001b[38;5;124;43mh\u001b[39;49m\u001b[38;5;124;43m'\u001b[39;49m\n",
      "\u001b[0;31mTypeError\u001b[0m: unsupported operand type(s) for -: 'str' and 'str'"
     ]
    }
   ],
   "source": [
    "'hello' - 'h'"
   ]
  },
  {
   "cell_type": "code",
   "execution_count": 12,
   "id": "905b2c2e-88e5-4eb2-bb3c-ecbc2b73e264",
   "metadata": {},
   "outputs": [],
   "source": [
    "full_name = 'Ahmed' + ' ' + 'Walsh'"
   ]
  },
  {
   "cell_type": "code",
   "execution_count": 13,
   "id": "7bb3801c-c7a9-4dc3-af15-407f98607bca",
   "metadata": {},
   "outputs": [
    {
     "data": {
      "text/plain": [
       "'Ahmed Walsh'"
      ]
     },
     "execution_count": 13,
     "metadata": {},
     "output_type": "execute_result"
    }
   ],
   "source": [
    "full_name"
   ]
  },
  {
   "cell_type": "code",
   "execution_count": 15,
   "id": "6e07db14-e5ca-4e7a-8127-689750c683a9",
   "metadata": {},
   "outputs": [],
   "source": [
    "separator = '=-' * 10"
   ]
  },
  {
   "cell_type": "code",
   "execution_count": 16,
   "id": "e0694137-67a5-4ef0-acfe-a06835adbbd4",
   "metadata": {},
   "outputs": [
    {
     "data": {
      "text/plain": [
       "'=-=-=-=-=-=-=-=-=-=-'"
      ]
     },
     "execution_count": 16,
     "metadata": {},
     "output_type": "execute_result"
    }
   ],
   "source": [
    "separator"
   ]
  },
  {
   "cell_type": "code",
   "execution_count": 17,
   "id": "3ddc2edc-76d9-4905-99e5-d24494eaa7e6",
   "metadata": {},
   "outputs": [
    {
     "ename": "TypeError",
     "evalue": "can't multiply sequence by non-int of type 'str'",
     "output_type": "error",
     "traceback": [
      "\u001b[0;31m---------------------------------------------------------------------------\u001b[0m",
      "\u001b[0;31mTypeError\u001b[0m                                 Traceback (most recent call last)",
      "Cell \u001b[0;32mIn [17], line 1\u001b[0m\n\u001b[0;32m----> 1\u001b[0m separator \u001b[38;5;241m=\u001b[39m \u001b[38;5;124;43m'\u001b[39;49m\u001b[38;5;124;43m=\u001b[39;49m\u001b[38;5;124;43m'\u001b[39;49m\u001b[43m \u001b[49m\u001b[38;5;241;43m*\u001b[39;49m\u001b[43m \u001b[49m\u001b[38;5;124;43m'\u001b[39;49m\u001b[38;5;124;43m-\u001b[39;49m\u001b[38;5;124;43m'\u001b[39;49m\n",
      "\u001b[0;31mTypeError\u001b[0m: can't multiply sequence by non-int of type 'str'"
     ]
    }
   ],
   "source": [
    "separator = '=' * '-'"
   ]
  },
  {
   "cell_type": "code",
   "execution_count": 18,
   "id": "91f8cd99-4db7-48d7-9163-9cedd085e495",
   "metadata": {},
   "outputs": [],
   "source": [
    "a = '123'"
   ]
  },
  {
   "cell_type": "code",
   "execution_count": 19,
   "id": "163d45ce-0335-4822-9345-e377b92d112c",
   "metadata": {},
   "outputs": [],
   "source": [
    "b = 123"
   ]
  },
  {
   "cell_type": "code",
   "execution_count": 20,
   "id": "3dc28037-7e0e-4ef4-8555-bbc4d2f93219",
   "metadata": {},
   "outputs": [
    {
     "data": {
      "text/plain": [
       "str"
      ]
     },
     "execution_count": 20,
     "metadata": {},
     "output_type": "execute_result"
    }
   ],
   "source": [
    "type(a)"
   ]
  },
  {
   "cell_type": "code",
   "execution_count": 21,
   "id": "da9a9a4d-101a-4a51-9b6f-3b9848000715",
   "metadata": {},
   "outputs": [
    {
     "data": {
      "text/plain": [
       "int"
      ]
     },
     "execution_count": 21,
     "metadata": {},
     "output_type": "execute_result"
    }
   ],
   "source": [
    "type(b)"
   ]
  },
  {
   "cell_type": "code",
   "execution_count": 22,
   "id": "ad126f1f-6876-49e9-a51c-a6aff2e07015",
   "metadata": {},
   "outputs": [
    {
     "ename": "TypeError",
     "evalue": "unsupported operand type(s) for +: 'int' and 'str'",
     "output_type": "error",
     "traceback": [
      "\u001b[0;31m---------------------------------------------------------------------------\u001b[0m",
      "\u001b[0;31mTypeError\u001b[0m                                 Traceback (most recent call last)",
      "Cell \u001b[0;32mIn [22], line 1\u001b[0m\n\u001b[0;32m----> 1\u001b[0m \u001b[38;5;241;43m1\u001b[39;49m\u001b[43m \u001b[49m\u001b[38;5;241;43m+\u001b[39;49m\u001b[43m \u001b[49m\u001b[38;5;124;43m'\u001b[39;49m\u001b[38;5;124;43m2\u001b[39;49m\u001b[38;5;124;43m'\u001b[39;49m\n",
      "\u001b[0;31mTypeError\u001b[0m: unsupported operand type(s) for +: 'int' and 'str'"
     ]
    }
   ],
   "source": [
    "1 + '2'"
   ]
  },
  {
   "cell_type": "code",
   "execution_count": 23,
   "id": "7903e943-344c-4cfc-82a6-d1ecb3331f6c",
   "metadata": {},
   "outputs": [
    {
     "name": "stdout",
     "output_type": "stream",
     "text": [
      "1 2\n"
     ]
    }
   ],
   "source": [
    "print(1, '2')"
   ]
  },
  {
   "cell_type": "code",
   "execution_count": 24,
   "id": "15017874-45ed-4aa3-a977-04bd60610af5",
   "metadata": {},
   "outputs": [
    {
     "data": {
      "text/plain": [
       "'12'"
      ]
     },
     "execution_count": 24,
     "metadata": {},
     "output_type": "execute_result"
    }
   ],
   "source": [
    "str(1) + '2'"
   ]
  },
  {
   "cell_type": "code",
   "execution_count": 25,
   "id": "e9164df4-8bdd-4290-87d5-706bb1210097",
   "metadata": {},
   "outputs": [
    {
     "data": {
      "text/plain": [
       "3"
      ]
     },
     "execution_count": 25,
     "metadata": {},
     "output_type": "execute_result"
    }
   ],
   "source": [
    "1 + int('2')"
   ]
  },
  {
   "cell_type": "code",
   "execution_count": 26,
   "id": "14e045b1-89a0-45c8-b756-5daa3d79684e",
   "metadata": {},
   "outputs": [
    {
     "data": {
      "text/plain": [
       "0.5"
      ]
     },
     "execution_count": 26,
     "metadata": {},
     "output_type": "execute_result"
    }
   ],
   "source": [
    "1 / 2.0"
   ]
  },
  {
   "cell_type": "code",
   "execution_count": 27,
   "id": "7d37fd7c-341c-4555-8922-3093ee6226d0",
   "metadata": {},
   "outputs": [
    {
     "data": {
      "text/plain": [
       "2.0"
      ]
     },
     "execution_count": 27,
     "metadata": {},
     "output_type": "execute_result"
    }
   ],
   "source": [
    "2.0 / 1"
   ]
  },
  {
   "cell_type": "code",
   "execution_count": 28,
   "id": "65974601-3f6e-4935-b382-940419ce6c6f",
   "metadata": {},
   "outputs": [
    {
     "data": {
      "text/plain": [
       "0.5"
      ]
     },
     "execution_count": 28,
     "metadata": {},
     "output_type": "execute_result"
    }
   ],
   "source": [
    "1 / 2"
   ]
  },
  {
   "cell_type": "code",
   "execution_count": 29,
   "id": "e38f98e4-f5af-41e7-8118-e552e3a2fa90",
   "metadata": {},
   "outputs": [
    {
     "data": {
      "text/plain": [
       "0"
      ]
     },
     "execution_count": 29,
     "metadata": {},
     "output_type": "execute_result"
    }
   ],
   "source": [
    "1 // 2"
   ]
  },
  {
   "cell_type": "markdown",
   "id": "2bf0fc43-d731-46b7-bb6f-3712e66679f8",
   "metadata": {},
   "source": [
    "Variables only change value when something is assigned to them."
   ]
  },
  {
   "cell_type": "code",
   "execution_count": 30,
   "id": "90ec7e78-e925-4b18-9758-1234c2a6195c",
   "metadata": {},
   "outputs": [],
   "source": [
    "variable_one = 1\n",
    "variable_two = 5 * variable_one\n",
    "variable_one = 2"
   ]
  },
  {
   "cell_type": "code",
   "execution_count": 31,
   "id": "01816ba0-2969-4fde-960c-5e98a4327afd",
   "metadata": {},
   "outputs": [
    {
     "data": {
      "text/plain": [
       "2"
      ]
     },
     "execution_count": 31,
     "metadata": {},
     "output_type": "execute_result"
    }
   ],
   "source": [
    "variable_one"
   ]
  },
  {
   "cell_type": "code",
   "execution_count": 32,
   "id": "08735fd3-71fe-4990-abfe-4d30b2a560bb",
   "metadata": {},
   "outputs": [
    {
     "data": {
      "text/plain": [
       "5"
      ]
     },
     "execution_count": 32,
     "metadata": {},
     "output_type": "execute_result"
    }
   ],
   "source": [
    "variable_two"
   ]
  },
  {
   "cell_type": "code",
   "execution_count": 34,
   "id": "9981a2e4-7ab1-42ce-90a8-a8b1fdf9d3fa",
   "metadata": {},
   "outputs": [
    {
     "ename": "ValueError",
     "evalue": "invalid literal for int() with base 10: '1.1'",
     "output_type": "error",
     "traceback": [
      "\u001b[0;31m---------------------------------------------------------------------------\u001b[0m",
      "\u001b[0;31mValueError\u001b[0m                                Traceback (most recent call last)",
      "Cell \u001b[0;32mIn [34], line 1\u001b[0m\n\u001b[0;32m----> 1\u001b[0m \u001b[38;5;28;43mint\u001b[39;49m\u001b[43m(\u001b[49m\u001b[38;5;124;43m\"\u001b[39;49m\u001b[38;5;124;43m1.1\u001b[39;49m\u001b[38;5;124;43m\"\u001b[39;49m\u001b[43m)\u001b[49m\n",
      "\u001b[0;31mValueError\u001b[0m: invalid literal for int() with base 10: '1.1'"
     ]
    }
   ],
   "source": [
    "int(\"1.1\")"
   ]
  },
  {
   "cell_type": "code",
   "execution_count": 36,
   "id": "06c5b80f-9a0a-4e08-9294-aef99f0a7b8f",
   "metadata": {},
   "outputs": [
    {
     "data": {
      "text/plain": [
       "1"
      ]
     },
     "execution_count": 36,
     "metadata": {},
     "output_type": "execute_result"
    }
   ],
   "source": [
    "int(float(\"1.1\"))"
   ]
  },
  {
   "cell_type": "code",
   "execution_count": 37,
   "id": "905f0fb4-3f66-4c45-9f8f-acc8b7396e9b",
   "metadata": {},
   "outputs": [
    {
     "ename": "TypeError",
     "evalue": "can't multiply sequence by non-int of type 'float'",
     "output_type": "error",
     "traceback": [
      "\u001b[0;31m---------------------------------------------------------------------------\u001b[0m",
      "\u001b[0;31mTypeError\u001b[0m                                 Traceback (most recent call last)",
      "Cell \u001b[0;32mIn [37], line 1\u001b[0m\n\u001b[0;32m----> 1\u001b[0m \u001b[38;5;241;43m2.0\u001b[39;49m\u001b[43m \u001b[49m\u001b[38;5;241;43m*\u001b[39;49m\u001b[43m \u001b[49m\u001b[38;5;124;43m\"\u001b[39;49m\u001b[38;5;124;43m1\u001b[39;49m\u001b[38;5;124;43m\"\u001b[39;49m\n",
      "\u001b[0;31mTypeError\u001b[0m: can't multiply sequence by non-int of type 'float'"
     ]
    }
   ],
   "source": [
    "2.0 * \"1\""
   ]
  },
  {
   "cell_type": "code",
   "execution_count": null,
   "id": "ca0745af-fdaf-4e67-a908-78a05dcff465",
   "metadata": {},
   "outputs": [],
   "source": []
  }
 ],
 "metadata": {
  "kernelspec": {
   "display_name": "Python 3",
   "language": "python",
   "name": "python3"
  },
  "language_info": {
   "codemirror_mode": {
    "name": "ipython",
    "version": 3
   },
   "file_extension": ".py",
   "mimetype": "text/x-python",
   "name": "python",
   "nbconvert_exporter": "python",
   "pygments_lexer": "ipython3",
   "version": "3.9.12"
  }
 },
 "nbformat": 4,
 "nbformat_minor": 5
}
