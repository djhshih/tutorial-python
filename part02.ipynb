{
 "cells": [
  {
   "cell_type": "markdown",
   "id": "70e1a0c7-7cd5-4ba1-b690-f91b13774fa5",
   "metadata": {},
   "source": [
    "## Variables and assignment"
   ]
  },
  {
   "cell_type": "code",
   "execution_count": 2,
   "id": "5f816b09-cd1b-4afc-a2c3-0755608988bb",
   "metadata": {},
   "outputs": [],
   "source": [
    "age = 42\n",
    "first_name = 'Ahmed'"
   ]
  },
  {
   "cell_type": "code",
   "execution_count": 2,
   "id": "4e0c2f54-68af-4aa2-8e61-f83b7916e864",
   "metadata": {},
   "outputs": [
    {
     "name": "stdout",
     "output_type": "stream",
     "text": [
      "Ahmed\n",
      "42\n"
     ]
    }
   ],
   "source": [
    "print(first_name)\n",
    "print(age)"
   ]
  },
  {
   "cell_type": "code",
   "execution_count": 3,
   "id": "57ebd550-d8bc-4ebd-b8ad-56b08911a7b9",
   "metadata": {},
   "outputs": [
    {
     "data": {
      "text/plain": [
       "42"
      ]
     },
     "execution_count": 3,
     "metadata": {},
     "output_type": "execute_result"
    }
   ],
   "source": [
    "first_name\n",
    "age"
   ]
  },
  {
   "cell_type": "code",
   "execution_count": 1,
   "id": "69ee0af6-5626-436c-8da4-60802e945445",
   "metadata": {},
   "outputs": [
    {
     "ename": "NameError",
     "evalue": "name 'age' is not defined",
     "output_type": "error",
     "traceback": [
      "\u001b[0;31m---------------------------------------------------------------------------\u001b[0m",
      "\u001b[0;31mNameError\u001b[0m                                 Traceback (most recent call last)",
      "\u001b[1;32m/home/davids/projects/tutorial-python/part2.ipynb Cell 5\u001b[0m in \u001b[0;36m1\n\u001b[0;32m----> <a href='vscode-notebook-cell:/home/davids/projects/tutorial-python/part2.ipynb#W4sZmlsZQ%3D%3D?line=0'>1</a>\u001b[0m age \u001b[39m=\u001b[39m age \u001b[39m+\u001b[39m \u001b[39m1\u001b[39m\n\u001b[1;32m      <a href='vscode-notebook-cell:/home/davids/projects/tutorial-python/part2.ipynb#W4sZmlsZQ%3D%3D?line=1'>2</a>\u001b[0m \u001b[39mprint\u001b[39m(age)\n",
      "\u001b[0;31mNameError\u001b[0m: name 'age' is not defined"
     ]
    }
   ],
   "source": [
    "age = age + 1\n",
    "print(age)"
   ]
  },
  {
   "cell_type": "code",
   "execution_count": 5,
   "id": "325e35c7-7c70-4c71-864c-9cc64086dc01",
   "metadata": {},
   "outputs": [
    {
     "ename": "NameError",
     "evalue": "name 'fname' is not defined",
     "output_type": "error",
     "traceback": [
      "\u001b[0;31m---------------------------------------------------------------------------\u001b[0m",
      "\u001b[0;31mNameError\u001b[0m                                 Traceback (most recent call last)",
      "Cell \u001b[0;32mIn [5], line 1\u001b[0m\n\u001b[0;32m----> 1\u001b[0m \u001b[43mfname\u001b[49m\n",
      "\u001b[0;31mNameError\u001b[0m: name 'fname' is not defined"
     ]
    }
   ],
   "source": [
    "fname"
   ]
  },
  {
   "cell_type": "markdown",
   "id": "3bf528a1-8a6d-4036-8b3b-fae59dc980da",
   "metadata": {},
   "source": [
    "## Indexing\n",
    "\n"
   ]
  },
  {
   "cell_type": "code",
   "execution_count": 7,
   "id": "e261484f-07ac-42e4-9461-5638ecf3ebba",
   "metadata": {},
   "outputs": [
    {
     "name": "stdout",
     "output_type": "stream",
     "text": [
      "h\n"
     ]
    }
   ],
   "source": [
    "atom_name = 'helium'\n",
    "print(atom_name[0])"
   ]
  },
  {
   "cell_type": "code",
   "execution_count": 8,
   "id": "c189771c-09dc-4574-b25b-cb87508533d3",
   "metadata": {},
   "outputs": [
    {
     "name": "stdout",
     "output_type": "stream",
     "text": [
      "sod\n"
     ]
    }
   ],
   "source": [
    "atom_name = 'sodium'\n",
    "print(atom_name[0:3])"
   ]
  },
  {
   "cell_type": "code",
   "execution_count": 10,
   "id": "3a0d1446-6984-45a0-a5be-92ac18390e95",
   "metadata": {},
   "outputs": [
    {
     "name": "stdout",
     "output_type": "stream",
     "text": [
      "ium\n"
     ]
    }
   ],
   "source": [
    "print(atom_name[3:])"
   ]
  },
  {
   "cell_type": "code",
   "execution_count": 11,
   "id": "d9cc2781-7833-42dd-8e31-057a0d44766c",
   "metadata": {},
   "outputs": [
    {
     "name": "stdout",
     "output_type": "stream",
     "text": [
      "6\n"
     ]
    }
   ],
   "source": [
    "print(len('helium'))"
   ]
  },
  {
   "cell_type": "code",
   "execution_count": 12,
   "id": "0758a5a3-a02d-4d31-9746-e6cca3117359",
   "metadata": {},
   "outputs": [
    {
     "ename": "TypeError",
     "evalue": "object of type 'int' has no len()",
     "output_type": "error",
     "traceback": [
      "\u001b[0;31m---------------------------------------------------------------------------\u001b[0m",
      "\u001b[0;31mTypeError\u001b[0m                                 Traceback (most recent call last)",
      "Cell \u001b[0;32mIn [12], line 1\u001b[0m\n\u001b[0;32m----> 1\u001b[0m \u001b[38;5;28;43mlen\u001b[39;49m\u001b[43m(\u001b[49m\u001b[38;5;241;43m10\u001b[39;49m\u001b[43m)\u001b[49m\n",
      "\u001b[0;31mTypeError\u001b[0m: object of type 'int' has no len()"
     ]
    }
   ],
   "source": [
    "len(10)"
   ]
  },
  {
   "cell_type": "code",
   "execution_count": 13,
   "id": "c26a6aa5-9edc-49c6-9210-363a9698ce63",
   "metadata": {},
   "outputs": [
    {
     "ename": "NameError",
     "evalue": "name 'Age' is not defined",
     "output_type": "error",
     "traceback": [
      "\u001b[0;31m---------------------------------------------------------------------------\u001b[0m",
      "\u001b[0;31mNameError\u001b[0m                                 Traceback (most recent call last)",
      "Cell \u001b[0;32mIn [13], line 1\u001b[0m\n\u001b[0;32m----> 1\u001b[0m \u001b[43mAge\u001b[49m\n",
      "\u001b[0;31mNameError\u001b[0m: name 'Age' is not defined"
     ]
    }
   ],
   "source": [
    "Age"
   ]
  },
  {
   "cell_type": "code",
   "execution_count": 14,
   "id": "f402653f-c4ba-45ff-b28e-68fdb6a89916",
   "metadata": {},
   "outputs": [
    {
     "data": {
      "text/plain": [
       "43"
      ]
     },
     "execution_count": 14,
     "metadata": {},
     "output_type": "execute_result"
    }
   ],
   "source": [
    "age"
   ]
  },
  {
   "cell_type": "code",
   "execution_count": 15,
   "id": "ba360242-aa00-4e64-b7dd-ab4b1c9ac060",
   "metadata": {},
   "outputs": [],
   "source": [
    "fladadab = 43\n",
    "foo = 10\n",
    "bar = 20"
   ]
  },
  {
   "cell_type": "code",
   "execution_count": 16,
   "id": "1c1d4659-0135-41ed-8576-893133fd12cd",
   "metadata": {},
   "outputs": [
    {
     "data": {
      "text/plain": [
       "43"
      ]
     },
     "execution_count": 16,
     "metadata": {},
     "output_type": "execute_result"
    }
   ],
   "source": [
    "age"
   ]
  },
  {
   "cell_type": "code",
   "execution_count": 17,
   "id": "4bfbd257-9256-4e53-9b65-063c1ca84f30",
   "metadata": {},
   "outputs": [],
   "source": [
    "person_name = 'John'"
   ]
  },
  {
   "cell_type": "code",
   "execution_count": 18,
   "id": "d463796c-a429-40f4-afac-ab7aea5ad4d3",
   "metadata": {},
   "outputs": [
    {
     "name": "stdout",
     "output_type": "stream",
     "text": [
      "John is 43 years old\n"
     ]
    }
   ],
   "source": [
    "print(person_name, 'is', age, 'years old')"
   ]
  },
  {
   "cell_type": "code",
   "execution_count": 19,
   "id": "ddac6e53-de88-4cc4-ac3a-4555750e6373",
   "metadata": {},
   "outputs": [
    {
     "ename": "NameError",
     "evalue": "name 'birthday' is not defined",
     "output_type": "error",
     "traceback": [
      "\u001b[0;31m---------------------------------------------------------------------------\u001b[0m",
      "\u001b[0;31mNameError\u001b[0m                                 Traceback (most recent call last)",
      "Cell \u001b[0;32mIn [19], line 1\u001b[0m\n\u001b[0;32m----> 1\u001b[0m \u001b[43mbirthday\u001b[49m \u001b[38;5;129;01mis\u001b[39;00m \u001b[38;5;28;01mNone\u001b[39;00m\n",
      "\u001b[0;31mNameError\u001b[0m: name 'birthday' is not defined"
     ]
    }
   ],
   "source": [
    "birthday is None"
   ]
  },
  {
   "cell_type": "code",
   "execution_count": 21,
   "id": "87bc07bc-cf18-4f6d-a6e5-e137af827b75",
   "metadata": {},
   "outputs": [],
   "source": [
    "birthday = None"
   ]
  },
  {
   "cell_type": "code",
   "execution_count": 22,
   "id": "03e383df-2e1d-453b-9f6f-cd8f41a8df8f",
   "metadata": {},
   "outputs": [
    {
     "data": {
      "text/plain": [
       "True"
      ]
     },
     "execution_count": 22,
     "metadata": {},
     "output_type": "execute_result"
    }
   ],
   "source": [
    "birthday is None"
   ]
  },
  {
   "cell_type": "code",
   "execution_count": 23,
   "id": "77abf9ff-cd74-4a39-96d6-9b508a098594",
   "metadata": {},
   "outputs": [],
   "source": [
    "initial = 'left'\n",
    "position = initial\n",
    "initial = 'right'"
   ]
  },
  {
   "cell_type": "code",
   "execution_count": 24,
   "id": "309e7419-79ae-4717-8831-b3b32d29038e",
   "metadata": {},
   "outputs": [
    {
     "name": "stdout",
     "output_type": "stream",
     "text": [
      "right\n"
     ]
    }
   ],
   "source": [
    "print(initial)"
   ]
  },
  {
   "cell_type": "code",
   "execution_count": 25,
   "id": "403e9542-b2e8-4c9d-b07b-33c80cbb1715",
   "metadata": {},
   "outputs": [
    {
     "name": "stdout",
     "output_type": "stream",
     "text": [
      "left\n"
     ]
    }
   ],
   "source": [
    "print(position)"
   ]
  }
 ],
 "metadata": {
  "kernelspec": {
   "display_name": "Python 3",
   "language": "python",
   "name": "python3"
  },
  "language_info": {
   "codemirror_mode": {
    "name": "ipython",
    "version": 3
   },
   "file_extension": ".py",
   "mimetype": "text/x-python",
   "name": "python",
   "nbconvert_exporter": "python",
   "pygments_lexer": "ipython3",
   "version": "3.9.12"
  }
 },
 "nbformat": 4,
 "nbformat_minor": 5
}
