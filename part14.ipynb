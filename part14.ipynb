{
 "cells": [
  {
   "cell_type": "markdown",
   "id": "6bb42af2-65f0-40cc-9b61-5d1c8c606ca0",
   "metadata": {},
   "source": [
    "## Looping over data sets"
   ]
  },
  {
   "cell_type": "code",
   "execution_count": 1,
   "id": "b57be7ca-62a0-4390-9d87-40e2e98fbb7c",
   "metadata": {
    "tags": []
   },
   "outputs": [
    {
     "data": {
      "text/plain": [
       "'/home/davids/projects/tutorial-python'"
      ]
     },
     "execution_count": 1,
     "metadata": {},
     "output_type": "execute_result"
    }
   ],
   "source": [
    "import os\n",
    "os.getcwd()"
   ]
  },
  {
   "cell_type": "code",
   "execution_count": 2,
   "id": "ef8077c4-29a7-4a7c-8681-78793764d71b",
   "metadata": {
    "tags": []
   },
   "outputs": [],
   "source": [
    "import pandas as pd"
   ]
  },
  {
   "cell_type": "code",
   "execution_count": 3,
   "id": "6d3014d7-2b86-424f-a832-9e7793e72ec8",
   "metadata": {
    "tags": []
   },
   "outputs": [],
   "source": [
    "fnames = ['data/gapminder_gdp_africa.csv', 'data/gapminder_gdp_asia.csv']"
   ]
  },
  {
   "cell_type": "code",
   "execution_count": 6,
   "id": "48caa541-a969-4c50-a1f6-e114846841bd",
   "metadata": {
    "tags": []
   },
   "outputs": [
    {
     "name": "stdout",
     "output_type": "stream",
     "text": [
      "data/gapminder_gdp_africa.csv\n",
      "gdpPercap_1952    298.846212\n",
      "gdpPercap_1957    335.997115\n",
      "gdpPercap_1962    355.203227\n",
      "gdpPercap_1967    412.977514\n",
      "gdpPercap_1972    464.099504\n",
      "gdpPercap_1977    502.319733\n",
      "gdpPercap_1982    462.211415\n",
      "gdpPercap_1987    389.876185\n",
      "gdpPercap_1992    410.896824\n",
      "gdpPercap_1997    312.188423\n",
      "gdpPercap_2002    241.165876\n",
      "gdpPercap_2007    277.551859\n",
      "dtype: float64\n",
      "data/gapminder_gdp_asia.csv\n",
      "gdpPercap_1952    331.0\n",
      "gdpPercap_1957    350.0\n",
      "gdpPercap_1962    388.0\n",
      "gdpPercap_1967    349.0\n",
      "gdpPercap_1972    357.0\n",
      "gdpPercap_1977    371.0\n",
      "gdpPercap_1982    424.0\n",
      "gdpPercap_1987    385.0\n",
      "gdpPercap_1992    347.0\n",
      "gdpPercap_1997    415.0\n",
      "gdpPercap_2002    611.0\n",
      "gdpPercap_2007    944.0\n",
      "dtype: float64\n"
     ]
    }
   ],
   "source": [
    "for fname in fnames:\n",
    "    data = pd.read_csv(fname, index_col='country')\n",
    "    print(fname)\n",
    "    print(data.min())"
   ]
  },
  {
   "cell_type": "code",
   "execution_count": 7,
   "id": "d29866cc-86d2-46ef-a86b-f00c6a103ad6",
   "metadata": {
    "tags": []
   },
   "outputs": [],
   "source": [
    "import glob"
   ]
  },
  {
   "cell_type": "code",
   "execution_count": 23,
   "id": "babc0790-c500-45db-a85d-d580477c62b7",
   "metadata": {
    "tags": []
   },
   "outputs": [],
   "source": [
    "# verbose version\n",
    "fnames = glob.glob('data/*.csv')\n",
    "idx = [f for f in fnames]\n",
    "fnames_filtered = []\n",
    "for i in range(len(fnames)):\n",
    "    if idx[i]:\n",
    "        fnames_filtered.append(fnames[i])"
   ]
  },
  {
   "cell_type": "code",
   "execution_count": 34,
   "id": "7ba923c2-976c-47be-9fcb-a3bd6c2b1e6f",
   "metadata": {
    "tags": []
   },
   "outputs": [],
   "source": [
    "# concise version using list comprehension\n",
    "fnames_filtered = [\n",
    "    f\n",
    "    for f in glob.glob('data/*.csv')\n",
    "    if 'tall' not in f\n",
    "]"
   ]
  },
  {
   "cell_type": "code",
   "execution_count": 35,
   "id": "91abba5e-5cdc-4f81-8104-447df77d877f",
   "metadata": {
    "tags": []
   },
   "outputs": [
    {
     "name": "stdout",
     "output_type": "stream",
     "text": [
      "data/gapminder_gdp_oceania.csv\n",
      "10039.59564\n",
      "data/gapminder_gdp_asia.csv\n",
      "331.0\n",
      "data/gapminder_gdp_europe.csv\n",
      "973.5331948\n",
      "data/gapminder_gdp_americas.csv\n",
      "1397.717137\n",
      "data/gapminder_all.csv\n",
      "298.8462121\n",
      "data/gapminder_gdp_africa.csv\n",
      "298.8462121\n",
      "data/gapminder_gdp_americas_tail3.csv\n",
      "5716.766744\n"
     ]
    }
   ],
   "source": [
    "for fname in fnames_filtered:\n",
    "    data = pd.read_csv(fname)\n",
    "    print(fname)\n",
    "    print(data['gdpPercap_1952'].min())"
   ]
  },
  {
   "cell_type": "code",
   "execution_count": 30,
   "id": "47e9c85e-64eb-425b-92da-75c434d2c513",
   "metadata": {
    "tags": []
   },
   "outputs": [
    {
     "data": {
      "text/plain": [
       "['data/gapminder_gdp_oceania.csv',\n",
       " 'data/gapminder_gdp_asia.csv',\n",
       " 'data/gapminder_gdp_europe.csv',\n",
       " 'data/gapminder_gdp_americas.csv',\n",
       " 'data/gapminder_all.csv',\n",
       " 'data/gapminder_gdp_africa.csv',\n",
       " 'data/gapminder_gdp_americas_tail3.csv']"
      ]
     },
     "execution_count": 30,
     "metadata": {},
     "output_type": "execute_result"
    }
   ],
   "source": [
    "[f for f in fnames if 'tall' not in f]"
   ]
  },
  {
   "cell_type": "code",
   "execution_count": null,
   "id": "88efcf22-d832-4d4e-a79b-42d97d275744",
   "metadata": {},
   "outputs": [],
   "source": []
  }
 ],
 "metadata": {
  "kernelspec": {
   "display_name": "Python 3 (ipykernel)",
   "language": "python",
   "name": "python3"
  },
  "language_info": {
   "codemirror_mode": {
    "name": "ipython",
    "version": 3
   },
   "file_extension": ".py",
   "mimetype": "text/x-python",
   "name": "python",
   "nbconvert_exporter": "python",
   "pygments_lexer": "ipython3",
   "version": "3.9.12"
  }
 },
 "nbformat": 4,
 "nbformat_minor": 5
}
