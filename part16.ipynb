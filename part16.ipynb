{
 "cells": [
  {
   "cell_type": "markdown",
   "id": "dd6f5f81-5378-40a1-af96-e346de9ba153",
   "metadata": {},
   "source": [
    "## Writing functions"
   ]
  },
  {
   "cell_type": "code",
   "execution_count": 17,
   "id": "d450d364-b82e-43c3-90d3-fa66cfa51dd5",
   "metadata": {
    "tags": []
   },
   "outputs": [],
   "source": [
    "def print_greeting(name, time):\n",
    "    # use modern string interpolation\n",
    "    # variable in braces {} will be expanded to its value\n",
    "    print(f'Hello, {name}. Nice to meet you!')\n",
    "    print(f'Good {time}!')\n",
    "    # use second method of string interpolation\n",
    "    print('Hello, {}! Good {time}!'.format(name, time=time)) \n",
    "    # use first method of string interpolation\n",
    "    print('Hello, %s! Good %s!' % (name, time))"
   ]
  },
  {
   "cell_type": "code",
   "execution_count": 19,
   "id": "70d792e4-c7c6-43ec-b2c8-361e0b56c9a6",
   "metadata": {
    "tags": []
   },
   "outputs": [
    {
     "name": "stdout",
     "output_type": "stream",
     "text": [
      "Hello, James. Nice to meet you!\n",
      "Good Morning!\n",
      "Hello, James! Good Morning!\n",
      "Hello, James! Good Morning!\n"
     ]
    }
   ],
   "source": [
    "ret = print_greeting('James', 'Morning')"
   ]
  },
  {
   "cell_type": "code",
   "execution_count": 21,
   "id": "6e419ca7-48d7-43a5-a127-6cc7ae74c611",
   "metadata": {
    "tags": []
   },
   "outputs": [
    {
     "name": "stdout",
     "output_type": "stream",
     "text": [
      "None\n"
     ]
    }
   ],
   "source": [
    "print(ret)"
   ]
  },
  {
   "cell_type": "code",
   "execution_count": 22,
   "id": "dd800eb2-4be6-4068-8729-af0ebe36059a",
   "metadata": {
    "tags": []
   },
   "outputs": [],
   "source": [
    "def average(values):\n",
    "    '''Calculate average for a list of values'''\n",
    "    if len(values) == 0:\n",
    "        return None\n",
    "    return sum(values) / len(values)"
   ]
  },
  {
   "cell_type": "code",
   "execution_count": 23,
   "id": "94286cb0-3dc4-41af-b796-1c7908a757ba",
   "metadata": {
    "tags": []
   },
   "outputs": [
    {
     "data": {
      "text/plain": [
       "2.6666666666666665"
      ]
     },
     "execution_count": 23,
     "metadata": {},
     "output_type": "execute_result"
    }
   ],
   "source": [
    "average([1, 3, 4])"
   ]
  },
  {
   "cell_type": "code",
   "execution_count": 25,
   "id": "3e00701a-d22d-4919-a2a4-afb69bc3bb89",
   "metadata": {
    "tags": []
   },
   "outputs": [
    {
     "name": "stdout",
     "output_type": "stream",
     "text": [
      "None\n"
     ]
    }
   ],
   "source": [
    "print(average([]))"
   ]
  },
  {
   "cell_type": "code",
   "execution_count": 26,
   "id": "cb15fa5d-0b70-406d-82b6-5ce9db7cb3d1",
   "metadata": {
    "tags": []
   },
   "outputs": [
    {
     "ename": "TypeError",
     "evalue": "average() missing 1 required positional argument: 'values'",
     "output_type": "error",
     "traceback": [
      "\u001b[0;31m---------------------------------------------------------------------------\u001b[0m",
      "\u001b[0;31mTypeError\u001b[0m                                 Traceback (most recent call last)",
      "Cell \u001b[0;32mIn[26], line 1\u001b[0m\n\u001b[0;32m----> 1\u001b[0m \u001b[43maverage\u001b[49m\u001b[43m(\u001b[49m\u001b[43m)\u001b[49m\n",
      "\u001b[0;31mTypeError\u001b[0m: average() missing 1 required positional argument: 'values'"
     ]
    }
   ],
   "source": [
    "average()"
   ]
  },
  {
   "cell_type": "code",
   "execution_count": null,
   "id": "d910eac4-873a-4a67-bc71-dca70b949710",
   "metadata": {},
   "outputs": [],
   "source": []
  }
 ],
 "metadata": {
  "kernelspec": {
   "display_name": "Python 3 (ipykernel)",
   "language": "python",
   "name": "python3"
  },
  "language_info": {
   "codemirror_mode": {
    "name": "ipython",
    "version": 3
   },
   "file_extension": ".py",
   "mimetype": "text/x-python",
   "name": "python",
   "nbconvert_exporter": "python",
   "pygments_lexer": "ipython3",
   "version": "3.9.12"
  }
 },
 "nbformat": 4,
 "nbformat_minor": 5
}
