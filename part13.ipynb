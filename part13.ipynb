{
 "cells": [
  {
   "cell_type": "markdown",
   "id": "bf663c69-b92c-4161-b900-d23bbbcf2e65",
   "metadata": {},
   "source": [
    "## Conditionals"
   ]
  },
  {
   "cell_type": "code",
   "execution_count": 5,
   "id": "87782f60-caf0-440d-8161-be72bdc9af81",
   "metadata": {
    "tags": []
   },
   "outputs": [
    {
     "name": "stdout",
     "output_type": "stream",
     "text": [
      "3.54 is large\n"
     ]
    }
   ],
   "source": [
    "mass = 3.54\n",
    "#mass = 2.07\n",
    "\n",
    "# more code here\n",
    "\n",
    "if mass > 3.0:\n",
    "    print(mass, 'is large')"
   ]
  },
  {
   "cell_type": "code",
   "execution_count": 7,
   "id": "0589fd33-5586-413f-bac9-eed7e92d6e18",
   "metadata": {
    "tags": []
   },
   "outputs": [
    {
     "name": "stdout",
     "output_type": "stream",
     "text": [
      "3.54 is large\n",
      "9.22 is large\n"
     ]
    }
   ],
   "source": [
    "masses = [3.54, 2.07, 9.22, 1.86, 1.71]\n",
    "for m in masses:\n",
    "    if m > 3.0:\n",
    "        print(m, 'is large')"
   ]
  },
  {
   "cell_type": "code",
   "execution_count": 8,
   "id": "2cfaf948-4ec4-41a1-99bf-cee75511abb1",
   "metadata": {
    "tags": []
   },
   "outputs": [
    {
     "name": "stdout",
     "output_type": "stream",
     "text": [
      "3.54 is large\n",
      "2.07 is small\n",
      "9.22 is large\n",
      "1.86 is small\n",
      "1.71 is small\n"
     ]
    }
   ],
   "source": [
    "for m in masses:\n",
    "    if m > 3.0:\n",
    "        print(m, 'is large')\n",
    "    else:\n",
    "        print(m, 'is small')"
   ]
  },
  {
   "cell_type": "code",
   "execution_count": 9,
   "id": "33940b9c-64cf-4c3c-ad0b-06984128e1f4",
   "metadata": {
    "tags": []
   },
   "outputs": [
    {
     "name": "stdout",
     "output_type": "stream",
     "text": [
      "3.54 is large\n",
      "2.07 is small\n",
      "9.22 is HUGE\n",
      "1.86 is small\n",
      "1.71 is small\n"
     ]
    }
   ],
   "source": [
    "for m in masses:\n",
    "    if m > 9.0:\n",
    "        print(m, 'is HUGE')\n",
    "    elif m > 3.0:\n",
    "        print(m, 'is large')\n",
    "    else:\n",
    "        print(m, 'is small')"
   ]
  },
  {
   "cell_type": "code",
   "execution_count": 10,
   "id": "72bd3cf2-8fed-4291-9beb-6dfec31057a8",
   "metadata": {
    "tags": []
   },
   "outputs": [],
   "source": [
    "grade = 85"
   ]
  },
  {
   "cell_type": "code",
   "execution_count": 11,
   "id": "749b1d02-eefa-4f70-87e0-102d4fc6caca",
   "metadata": {
    "tags": []
   },
   "outputs": [
    {
     "name": "stdout",
     "output_type": "stream",
     "text": [
      "grade is C\n"
     ]
    }
   ],
   "source": [
    "if grade >= 70:\n",
    "    print('grade is C')\n",
    "elif grade >= 80:\n",
    "    print('grade is B')\n",
    "elif grade >= 90:\n",
    "    print('grade is A')"
   ]
  },
  {
   "cell_type": "code",
   "execution_count": 12,
   "id": "84c189a0-7f58-430e-af31-3ad79629596c",
   "metadata": {
    "tags": []
   },
   "outputs": [
    {
     "name": "stdout",
     "output_type": "stream",
     "text": [
      "grade is B\n"
     ]
    }
   ],
   "source": [
    "if grade >= 90:\n",
    "    print('grade is A')\n",
    "elif grade >= 80:\n",
    "    print('grade is B')\n",
    "elif grade >= 70:\n",
    "    print('grade is C')\n",
    "else:\n",
    "    print('you failed.')"
   ]
  },
  {
   "cell_type": "code",
   "execution_count": 13,
   "id": "59d2221b-278c-4502-b5c0-e28dabe49016",
   "metadata": {
    "tags": []
   },
   "outputs": [
    {
     "name": "stdout",
     "output_type": "stream",
     "text": [
      "You are so smart.\n",
      "You are pretty good.\n"
     ]
    }
   ],
   "source": [
    "if grade >= 90:\n",
    "    print('You are a genius!')\n",
    "if grade >= 80:\n",
    "    print('You are so smart.')\n",
    "if grade >= 70:\n",
    "    print('You are pretty good.')"
   ]
  },
  {
   "cell_type": "code",
   "execution_count": 14,
   "id": "ff2ec621-0e37-429f-afed-212a8306adb0",
   "metadata": {
    "tags": []
   },
   "outputs": [
    {
     "name": "stdout",
     "output_type": "stream",
     "text": [
      "Let's speed up!\n"
     ]
    }
   ],
   "source": [
    "velocity = 10.0\n",
    "if velocity >= 20.0:\n",
    "    print('You are moving too fast!')\n",
    "else:\n",
    "    print(\"Let's speed up!\")\n",
    "    velocity = 50.0"
   ]
  },
  {
   "cell_type": "code",
   "execution_count": 16,
   "id": "7fe132cd-0d55-4e28-9b84-2d475e27baac",
   "metadata": {
    "tags": []
   },
   "outputs": [
    {
     "name": "stdout",
     "output_type": "stream",
     "text": [
      "0 : 10.0\n",
      "moving too slow\n",
      "1 : 20.0\n",
      "moving too slow\n",
      "2 : 30.0\n",
      "moving too fast\n",
      "3 : 25.0\n",
      "moving too fast\n",
      "4 : 20.0\n",
      "moving too slow\n",
      "final velocity: 30.0\n"
     ]
    }
   ],
   "source": [
    "velocity = 10.0\n",
    "for i in range(5):\n",
    "    print(i, ':', velocity)\n",
    "    if velocity > 20.0:\n",
    "        print('moving too fast')\n",
    "        velocity -= 5.0\n",
    "    else:\n",
    "        print('moving too slow')\n",
    "        velocity += 10.0\n",
    "print('final velocity:', velocity)"
   ]
  },
  {
   "cell_type": "code",
   "execution_count": 18,
   "id": "7f3b13cd-43e6-443c-abf4-d44b35f8d565",
   "metadata": {
    "tags": []
   },
   "outputs": [
    {
     "name": "stdout",
     "output_type": "stream",
     "text": [
      "normal traffic\n",
      "normal traffic\n",
      "fast heavy object\n",
      "something is wrong with the data\n",
      "slow light object\n"
     ]
    }
   ],
   "source": [
    "mass = [3.54, 2.07, 9.22, 1.86, 1.71]\n",
    "velocity = [10.00, 20.00, 30.00, 25.00, 20.00]\n",
    "\n",
    "for i in range(5):\n",
    "    if mass[i] > 5 and velocity[i] > 20:\n",
    "        print('fast heavy object')\n",
    "    elif mass[i] > 2 and mass[i] <= 5 and velocity[i] <= 20:\n",
    "        print('normal traffic')\n",
    "    elif mass[i] <= 2 and velocity[i] <= 20:\n",
    "        print('slow light object')\n",
    "    else:\n",
    "        print('something is wrong with the data')\n",
    "    "
   ]
  },
  {
   "cell_type": "code",
   "execution_count": 22,
   "id": "7dcad062-82a8-48eb-999a-12baf77f5355",
   "metadata": {
    "tags": []
   },
   "outputs": [
    {
     "data": {
      "text/plain": [
       "True"
      ]
     },
     "execution_count": 22,
     "metadata": {},
     "output_type": "execute_result"
    }
   ],
   "source": [
    "2 < 3 <= 5"
   ]
  },
  {
   "cell_type": "code",
   "execution_count": 23,
   "id": "41e8fc38-7811-47df-bd29-f8b6911aee98",
   "metadata": {
    "tags": []
   },
   "outputs": [],
   "source": [
    "numbers = [-1.5, 0.2, 0.4, 0.0, -1.3, 0.4]\n",
    "positive = [int(n > 0) for n in numbers]"
   ]
  },
  {
   "cell_type": "code",
   "execution_count": 24,
   "id": "f354b116-7142-459e-b5cb-937b470136e8",
   "metadata": {
    "tags": []
   },
   "outputs": [
    {
     "data": {
      "text/plain": [
       "[0, 1, 1, 0, 0, 1]"
      ]
     },
     "execution_count": 24,
     "metadata": {},
     "output_type": "execute_result"
    }
   ],
   "source": [
    "positive"
   ]
  },
  {
   "cell_type": "code",
   "execution_count": null,
   "id": "f4988964-3f70-4cad-998f-467cccc570bb",
   "metadata": {},
   "outputs": [],
   "source": []
  }
 ],
 "metadata": {
  "kernelspec": {
   "display_name": "Python 3 (ipykernel)",
   "language": "python",
   "name": "python3"
  },
  "language_info": {
   "codemirror_mode": {
    "name": "ipython",
    "version": 3
   },
   "file_extension": ".py",
   "mimetype": "text/x-python",
   "name": "python",
   "nbconvert_exporter": "python",
   "pygments_lexer": "ipython3",
   "version": "3.9.12"
  }
 },
 "nbformat": 4,
 "nbformat_minor": 5
}
